{
 "cells": [
  {
   "cell_type": "markdown",
   "id": "db532e09",
   "metadata": {},
   "source": [
    "## Quick Links\n",
    "* [Data Preprocessing](#data-preprocess)\n",
    "* [Training and Test Sets](#train-test)\n",
    "* [Feature Scaling](#feature-scaling)\n",
    "* [K Nearest Neighbors Regression](#knn)\n",
    "* [Random Forest Regression](#rfr)\n",
    "* [Ridge Regression](#ridge)\n",
    "* [Kernelized Ridge Regression](#kridge)\n",
    "* [Comparing Our Models](#compare)\n",
    "* [On-line Prediction](#online)"
   ]
  },
  {
   "cell_type": "markdown",
   "id": "fd5cdc3c",
   "metadata": {},
   "source": [
    "## Necessary Imports"
   ]
  },
  {
   "cell_type": "code",
   "execution_count": 1,
   "id": "8df338a2",
   "metadata": {},
   "outputs": [],
   "source": [
    "%matplotlib inline\n",
    "import numpy as np\n",
    "import pandas as pd\n",
    "import matplotlib.pyplot as plt\n",
    "import seaborn as sns\n",
    "import time\n",
    "\n",
    "from sklearn.model_selection import train_test_split"
   ]
  },
  {
   "cell_type": "markdown",
   "id": "668f603d",
   "metadata": {},
   "source": [
    "## Loading the Dataset"
   ]
  },
  {
   "cell_type": "code",
   "execution_count": 2,
   "id": "24cb7a59",
   "metadata": {},
   "outputs": [],
   "source": [
    "california = pd.read_csv('./Datasets/California Housing Dataset/housing.csv', header = 0)"
   ]
  },
  {
   "cell_type": "code",
   "execution_count": 3,
   "id": "87e05338",
   "metadata": {},
   "outputs": [
    {
     "data": {
      "text/html": [
       "<div>\n",
       "<style scoped>\n",
       "    .dataframe tbody tr th:only-of-type {\n",
       "        vertical-align: middle;\n",
       "    }\n",
       "\n",
       "    .dataframe tbody tr th {\n",
       "        vertical-align: top;\n",
       "    }\n",
       "\n",
       "    .dataframe thead th {\n",
       "        text-align: right;\n",
       "    }\n",
       "</style>\n",
       "<table border=\"1\" class=\"dataframe\">\n",
       "  <thead>\n",
       "    <tr style=\"text-align: right;\">\n",
       "      <th></th>\n",
       "      <th>longitude</th>\n",
       "      <th>latitude</th>\n",
       "      <th>housing_median_age</th>\n",
       "      <th>total_rooms</th>\n",
       "      <th>total_bedrooms</th>\n",
       "      <th>population</th>\n",
       "      <th>households</th>\n",
       "      <th>median_income</th>\n",
       "      <th>median_house_value</th>\n",
       "      <th>ocean_proximity</th>\n",
       "    </tr>\n",
       "  </thead>\n",
       "  <tbody>\n",
       "    <tr>\n",
       "      <th>0</th>\n",
       "      <td>-122.23</td>\n",
       "      <td>37.88</td>\n",
       "      <td>41.0</td>\n",
       "      <td>880.0</td>\n",
       "      <td>129.0</td>\n",
       "      <td>322.0</td>\n",
       "      <td>126.0</td>\n",
       "      <td>8.3252</td>\n",
       "      <td>452600.0</td>\n",
       "      <td>NEAR BAY</td>\n",
       "    </tr>\n",
       "    <tr>\n",
       "      <th>1</th>\n",
       "      <td>-122.22</td>\n",
       "      <td>37.86</td>\n",
       "      <td>21.0</td>\n",
       "      <td>7099.0</td>\n",
       "      <td>1106.0</td>\n",
       "      <td>2401.0</td>\n",
       "      <td>1138.0</td>\n",
       "      <td>8.3014</td>\n",
       "      <td>358500.0</td>\n",
       "      <td>NEAR BAY</td>\n",
       "    </tr>\n",
       "    <tr>\n",
       "      <th>2</th>\n",
       "      <td>-122.24</td>\n",
       "      <td>37.85</td>\n",
       "      <td>52.0</td>\n",
       "      <td>1467.0</td>\n",
       "      <td>190.0</td>\n",
       "      <td>496.0</td>\n",
       "      <td>177.0</td>\n",
       "      <td>7.2574</td>\n",
       "      <td>352100.0</td>\n",
       "      <td>NEAR BAY</td>\n",
       "    </tr>\n",
       "    <tr>\n",
       "      <th>3</th>\n",
       "      <td>-122.25</td>\n",
       "      <td>37.85</td>\n",
       "      <td>52.0</td>\n",
       "      <td>1274.0</td>\n",
       "      <td>235.0</td>\n",
       "      <td>558.0</td>\n",
       "      <td>219.0</td>\n",
       "      <td>5.6431</td>\n",
       "      <td>341300.0</td>\n",
       "      <td>NEAR BAY</td>\n",
       "    </tr>\n",
       "    <tr>\n",
       "      <th>4</th>\n",
       "      <td>-122.25</td>\n",
       "      <td>37.85</td>\n",
       "      <td>52.0</td>\n",
       "      <td>1627.0</td>\n",
       "      <td>280.0</td>\n",
       "      <td>565.0</td>\n",
       "      <td>259.0</td>\n",
       "      <td>3.8462</td>\n",
       "      <td>342200.0</td>\n",
       "      <td>NEAR BAY</td>\n",
       "    </tr>\n",
       "  </tbody>\n",
       "</table>\n",
       "</div>"
      ],
      "text/plain": [
       "   longitude  latitude  housing_median_age  total_rooms  total_bedrooms  \\\n",
       "0    -122.23     37.88                41.0        880.0           129.0   \n",
       "1    -122.22     37.86                21.0       7099.0          1106.0   \n",
       "2    -122.24     37.85                52.0       1467.0           190.0   \n",
       "3    -122.25     37.85                52.0       1274.0           235.0   \n",
       "4    -122.25     37.85                52.0       1627.0           280.0   \n",
       "\n",
       "   population  households  median_income  median_house_value ocean_proximity  \n",
       "0       322.0       126.0         8.3252            452600.0        NEAR BAY  \n",
       "1      2401.0      1138.0         8.3014            358500.0        NEAR BAY  \n",
       "2       496.0       177.0         7.2574            352100.0        NEAR BAY  \n",
       "3       558.0       219.0         5.6431            341300.0        NEAR BAY  \n",
       "4       565.0       259.0         3.8462            342200.0        NEAR BAY  "
      ]
     },
     "execution_count": 3,
     "metadata": {},
     "output_type": "execute_result"
    }
   ],
   "source": [
    "california.head()"
   ]
  },
  {
   "cell_type": "markdown",
   "id": "361f6f30",
   "metadata": {},
   "source": [
    "## Shape of the Dataset"
   ]
  },
  {
   "cell_type": "code",
   "execution_count": 4,
   "id": "fe307874",
   "metadata": {},
   "outputs": [
    {
     "data": {
      "text/plain": [
       "(20640, 10)"
      ]
     },
     "execution_count": 4,
     "metadata": {},
     "output_type": "execute_result"
    }
   ],
   "source": [
    "california.shape"
   ]
  },
  {
   "cell_type": "markdown",
   "id": "0b564dff",
   "metadata": {},
   "source": [
    "## Checking Stats of the Dataset"
   ]
  },
  {
   "cell_type": "code",
   "execution_count": 5,
   "id": "f28075e9",
   "metadata": {},
   "outputs": [
    {
     "data": {
      "text/html": [
       "<div>\n",
       "<style scoped>\n",
       "    .dataframe tbody tr th:only-of-type {\n",
       "        vertical-align: middle;\n",
       "    }\n",
       "\n",
       "    .dataframe tbody tr th {\n",
       "        vertical-align: top;\n",
       "    }\n",
       "\n",
       "    .dataframe thead th {\n",
       "        text-align: right;\n",
       "    }\n",
       "</style>\n",
       "<table border=\"1\" class=\"dataframe\">\n",
       "  <thead>\n",
       "    <tr style=\"text-align: right;\">\n",
       "      <th></th>\n",
       "      <th>longitude</th>\n",
       "      <th>latitude</th>\n",
       "      <th>housing_median_age</th>\n",
       "      <th>total_rooms</th>\n",
       "      <th>total_bedrooms</th>\n",
       "      <th>population</th>\n",
       "      <th>households</th>\n",
       "      <th>median_income</th>\n",
       "      <th>median_house_value</th>\n",
       "    </tr>\n",
       "  </thead>\n",
       "  <tbody>\n",
       "    <tr>\n",
       "      <th>count</th>\n",
       "      <td>20640.000000</td>\n",
       "      <td>20640.000000</td>\n",
       "      <td>20640.000000</td>\n",
       "      <td>20640.000000</td>\n",
       "      <td>20433.000000</td>\n",
       "      <td>20640.000000</td>\n",
       "      <td>20640.000000</td>\n",
       "      <td>20640.000000</td>\n",
       "      <td>20640.000000</td>\n",
       "    </tr>\n",
       "    <tr>\n",
       "      <th>mean</th>\n",
       "      <td>-119.569704</td>\n",
       "      <td>35.631861</td>\n",
       "      <td>28.639486</td>\n",
       "      <td>2635.763081</td>\n",
       "      <td>537.870553</td>\n",
       "      <td>1425.476744</td>\n",
       "      <td>499.539680</td>\n",
       "      <td>3.870671</td>\n",
       "      <td>206855.816909</td>\n",
       "    </tr>\n",
       "    <tr>\n",
       "      <th>std</th>\n",
       "      <td>2.003532</td>\n",
       "      <td>2.135952</td>\n",
       "      <td>12.585558</td>\n",
       "      <td>2181.615252</td>\n",
       "      <td>421.385070</td>\n",
       "      <td>1132.462122</td>\n",
       "      <td>382.329753</td>\n",
       "      <td>1.899822</td>\n",
       "      <td>115395.615874</td>\n",
       "    </tr>\n",
       "    <tr>\n",
       "      <th>min</th>\n",
       "      <td>-124.350000</td>\n",
       "      <td>32.540000</td>\n",
       "      <td>1.000000</td>\n",
       "      <td>2.000000</td>\n",
       "      <td>1.000000</td>\n",
       "      <td>3.000000</td>\n",
       "      <td>1.000000</td>\n",
       "      <td>0.499900</td>\n",
       "      <td>14999.000000</td>\n",
       "    </tr>\n",
       "    <tr>\n",
       "      <th>25%</th>\n",
       "      <td>-121.800000</td>\n",
       "      <td>33.930000</td>\n",
       "      <td>18.000000</td>\n",
       "      <td>1447.750000</td>\n",
       "      <td>296.000000</td>\n",
       "      <td>787.000000</td>\n",
       "      <td>280.000000</td>\n",
       "      <td>2.563400</td>\n",
       "      <td>119600.000000</td>\n",
       "    </tr>\n",
       "    <tr>\n",
       "      <th>50%</th>\n",
       "      <td>-118.490000</td>\n",
       "      <td>34.260000</td>\n",
       "      <td>29.000000</td>\n",
       "      <td>2127.000000</td>\n",
       "      <td>435.000000</td>\n",
       "      <td>1166.000000</td>\n",
       "      <td>409.000000</td>\n",
       "      <td>3.534800</td>\n",
       "      <td>179700.000000</td>\n",
       "    </tr>\n",
       "    <tr>\n",
       "      <th>75%</th>\n",
       "      <td>-118.010000</td>\n",
       "      <td>37.710000</td>\n",
       "      <td>37.000000</td>\n",
       "      <td>3148.000000</td>\n",
       "      <td>647.000000</td>\n",
       "      <td>1725.000000</td>\n",
       "      <td>605.000000</td>\n",
       "      <td>4.743250</td>\n",
       "      <td>264725.000000</td>\n",
       "    </tr>\n",
       "    <tr>\n",
       "      <th>max</th>\n",
       "      <td>-114.310000</td>\n",
       "      <td>41.950000</td>\n",
       "      <td>52.000000</td>\n",
       "      <td>39320.000000</td>\n",
       "      <td>6445.000000</td>\n",
       "      <td>35682.000000</td>\n",
       "      <td>6082.000000</td>\n",
       "      <td>15.000100</td>\n",
       "      <td>500001.000000</td>\n",
       "    </tr>\n",
       "  </tbody>\n",
       "</table>\n",
       "</div>"
      ],
      "text/plain": [
       "          longitude      latitude  housing_median_age   total_rooms  \\\n",
       "count  20640.000000  20640.000000        20640.000000  20640.000000   \n",
       "mean    -119.569704     35.631861           28.639486   2635.763081   \n",
       "std        2.003532      2.135952           12.585558   2181.615252   \n",
       "min     -124.350000     32.540000            1.000000      2.000000   \n",
       "25%     -121.800000     33.930000           18.000000   1447.750000   \n",
       "50%     -118.490000     34.260000           29.000000   2127.000000   \n",
       "75%     -118.010000     37.710000           37.000000   3148.000000   \n",
       "max     -114.310000     41.950000           52.000000  39320.000000   \n",
       "\n",
       "       total_bedrooms    population    households  median_income  \\\n",
       "count    20433.000000  20640.000000  20640.000000   20640.000000   \n",
       "mean       537.870553   1425.476744    499.539680       3.870671   \n",
       "std        421.385070   1132.462122    382.329753       1.899822   \n",
       "min          1.000000      3.000000      1.000000       0.499900   \n",
       "25%        296.000000    787.000000    280.000000       2.563400   \n",
       "50%        435.000000   1166.000000    409.000000       3.534800   \n",
       "75%        647.000000   1725.000000    605.000000       4.743250   \n",
       "max       6445.000000  35682.000000   6082.000000      15.000100   \n",
       "\n",
       "       median_house_value  \n",
       "count        20640.000000  \n",
       "mean        206855.816909  \n",
       "std         115395.615874  \n",
       "min          14999.000000  \n",
       "25%         119600.000000  \n",
       "50%         179700.000000  \n",
       "75%         264725.000000  \n",
       "max         500001.000000  "
      ]
     },
     "execution_count": 5,
     "metadata": {},
     "output_type": "execute_result"
    }
   ],
   "source": [
    "california.describe()"
   ]
  },
  {
   "cell_type": "code",
   "execution_count": 6,
   "id": "edb2ee5c",
   "metadata": {},
   "outputs": [
    {
     "name": "stdout",
     "output_type": "stream",
     "text": [
      "<class 'pandas.core.frame.DataFrame'>\n",
      "RangeIndex: 20640 entries, 0 to 20639\n",
      "Data columns (total 10 columns):\n",
      " #   Column              Non-Null Count  Dtype  \n",
      "---  ------              --------------  -----  \n",
      " 0   longitude           20640 non-null  float64\n",
      " 1   latitude            20640 non-null  float64\n",
      " 2   housing_median_age  20640 non-null  float64\n",
      " 3   total_rooms         20640 non-null  float64\n",
      " 4   total_bedrooms      20433 non-null  float64\n",
      " 5   population          20640 non-null  float64\n",
      " 6   households          20640 non-null  float64\n",
      " 7   median_income       20640 non-null  float64\n",
      " 8   median_house_value  20640 non-null  float64\n",
      " 9   ocean_proximity     20640 non-null  object \n",
      "dtypes: float64(9), object(1)\n",
      "memory usage: 1.6+ MB\n"
     ]
    }
   ],
   "source": [
    "california.info()"
   ]
  },
  {
   "cell_type": "markdown",
   "id": "e1799457",
   "metadata": {},
   "source": [
    "<a id='data-preprocess'></a>\n",
    "## Checking for missing values"
   ]
  },
  {
   "cell_type": "code",
   "execution_count": 7,
   "id": "95123212",
   "metadata": {},
   "outputs": [
    {
     "data": {
      "text/plain": [
       "longitude               0\n",
       "latitude                0\n",
       "housing_median_age      0\n",
       "total_rooms             0\n",
       "total_bedrooms        207\n",
       "population              0\n",
       "households              0\n",
       "median_income           0\n",
       "median_house_value      0\n",
       "ocean_proximity         0\n",
       "dtype: int64"
      ]
     },
     "execution_count": 7,
     "metadata": {},
     "output_type": "execute_result"
    }
   ],
   "source": [
    "california.isna().sum()"
   ]
  },
  {
   "cell_type": "markdown",
   "id": "60aaf831",
   "metadata": {},
   "source": [
    "## Removing rows with missing values"
   ]
  },
  {
   "cell_type": "code",
   "execution_count": 8,
   "id": "37242356",
   "metadata": {},
   "outputs": [],
   "source": [
    "california = california.dropna()"
   ]
  },
  {
   "cell_type": "code",
   "execution_count": 9,
   "id": "afc824b8",
   "metadata": {},
   "outputs": [
    {
     "data": {
      "text/plain": [
       "longitude             0\n",
       "latitude              0\n",
       "housing_median_age    0\n",
       "total_rooms           0\n",
       "total_bedrooms        0\n",
       "population            0\n",
       "households            0\n",
       "median_income         0\n",
       "median_house_value    0\n",
       "ocean_proximity       0\n",
       "dtype: int64"
      ]
     },
     "execution_count": 9,
     "metadata": {},
     "output_type": "execute_result"
    }
   ],
   "source": [
    "california.isna().sum()"
   ]
  },
  {
   "cell_type": "code",
   "execution_count": 10,
   "id": "a4c6e410",
   "metadata": {},
   "outputs": [
    {
     "data": {
      "text/html": [
       "<div>\n",
       "<style scoped>\n",
       "    .dataframe tbody tr th:only-of-type {\n",
       "        vertical-align: middle;\n",
       "    }\n",
       "\n",
       "    .dataframe tbody tr th {\n",
       "        vertical-align: top;\n",
       "    }\n",
       "\n",
       "    .dataframe thead th {\n",
       "        text-align: right;\n",
       "    }\n",
       "</style>\n",
       "<table border=\"1\" class=\"dataframe\">\n",
       "  <thead>\n",
       "    <tr style=\"text-align: right;\">\n",
       "      <th></th>\n",
       "      <th>longitude</th>\n",
       "      <th>latitude</th>\n",
       "      <th>housing_median_age</th>\n",
       "      <th>total_rooms</th>\n",
       "      <th>total_bedrooms</th>\n",
       "      <th>population</th>\n",
       "      <th>households</th>\n",
       "      <th>median_income</th>\n",
       "      <th>median_house_value</th>\n",
       "      <th>ocean_proximity</th>\n",
       "    </tr>\n",
       "  </thead>\n",
       "  <tbody>\n",
       "    <tr>\n",
       "      <th>0</th>\n",
       "      <td>-122.23</td>\n",
       "      <td>37.88</td>\n",
       "      <td>41.0</td>\n",
       "      <td>880.0</td>\n",
       "      <td>129.0</td>\n",
       "      <td>322.0</td>\n",
       "      <td>126.0</td>\n",
       "      <td>8.3252</td>\n",
       "      <td>452600.0</td>\n",
       "      <td>NEAR BAY</td>\n",
       "    </tr>\n",
       "    <tr>\n",
       "      <th>1</th>\n",
       "      <td>-122.22</td>\n",
       "      <td>37.86</td>\n",
       "      <td>21.0</td>\n",
       "      <td>7099.0</td>\n",
       "      <td>1106.0</td>\n",
       "      <td>2401.0</td>\n",
       "      <td>1138.0</td>\n",
       "      <td>8.3014</td>\n",
       "      <td>358500.0</td>\n",
       "      <td>NEAR BAY</td>\n",
       "    </tr>\n",
       "    <tr>\n",
       "      <th>2</th>\n",
       "      <td>-122.24</td>\n",
       "      <td>37.85</td>\n",
       "      <td>52.0</td>\n",
       "      <td>1467.0</td>\n",
       "      <td>190.0</td>\n",
       "      <td>496.0</td>\n",
       "      <td>177.0</td>\n",
       "      <td>7.2574</td>\n",
       "      <td>352100.0</td>\n",
       "      <td>NEAR BAY</td>\n",
       "    </tr>\n",
       "    <tr>\n",
       "      <th>3</th>\n",
       "      <td>-122.25</td>\n",
       "      <td>37.85</td>\n",
       "      <td>52.0</td>\n",
       "      <td>1274.0</td>\n",
       "      <td>235.0</td>\n",
       "      <td>558.0</td>\n",
       "      <td>219.0</td>\n",
       "      <td>5.6431</td>\n",
       "      <td>341300.0</td>\n",
       "      <td>NEAR BAY</td>\n",
       "    </tr>\n",
       "    <tr>\n",
       "      <th>4</th>\n",
       "      <td>-122.25</td>\n",
       "      <td>37.85</td>\n",
       "      <td>52.0</td>\n",
       "      <td>1627.0</td>\n",
       "      <td>280.0</td>\n",
       "      <td>565.0</td>\n",
       "      <td>259.0</td>\n",
       "      <td>3.8462</td>\n",
       "      <td>342200.0</td>\n",
       "      <td>NEAR BAY</td>\n",
       "    </tr>\n",
       "  </tbody>\n",
       "</table>\n",
       "</div>"
      ],
      "text/plain": [
       "   longitude  latitude  housing_median_age  total_rooms  total_bedrooms  \\\n",
       "0    -122.23     37.88                41.0        880.0           129.0   \n",
       "1    -122.22     37.86                21.0       7099.0          1106.0   \n",
       "2    -122.24     37.85                52.0       1467.0           190.0   \n",
       "3    -122.25     37.85                52.0       1274.0           235.0   \n",
       "4    -122.25     37.85                52.0       1627.0           280.0   \n",
       "\n",
       "   population  households  median_income  median_house_value ocean_proximity  \n",
       "0       322.0       126.0         8.3252            452600.0        NEAR BAY  \n",
       "1      2401.0      1138.0         8.3014            358500.0        NEAR BAY  \n",
       "2       496.0       177.0         7.2574            352100.0        NEAR BAY  \n",
       "3       558.0       219.0         5.6431            341300.0        NEAR BAY  \n",
       "4       565.0       259.0         3.8462            342200.0        NEAR BAY  "
      ]
     },
     "execution_count": 10,
     "metadata": {},
     "output_type": "execute_result"
    }
   ],
   "source": [
    "california.head()"
   ]
  },
  {
   "cell_type": "markdown",
   "id": "842d1aff",
   "metadata": {},
   "source": [
    "## Relationship Betweent the Different Features and with the Label"
   ]
  },
  {
   "cell_type": "code",
   "execution_count": 11,
   "id": "f86cf572",
   "metadata": {},
   "outputs": [
    {
     "data": {
      "image/png": "[encoded data removed]",
      "text/plain": [
       "<Figure size 1080x720 with 2 Axes>"
      ]
     },
     "metadata": {
      "needs_background": "light"
     },
     "output_type": "display_data"
    }
   ],
   "source": [
    "fig, ax = plt.subplots(figsize=(15,10))\n",
    "ax = sns.heatmap(california.corr(),annot=True);"
   ]
  },
  {
   "cell_type": "markdown",
   "id": "5f802981",
   "metadata": {},
   "source": [
    "## Converting Categorical Variable to Dummy Variables"
   ]
  },
  {
   "cell_type": "code",
   "execution_count": 12,
   "id": "fb07ec7f",
   "metadata": {},
   "outputs": [
    {
     "data": {
      "text/plain": [
       "<1H OCEAN     9034\n",
       "INLAND        6496\n",
       "NEAR OCEAN    2628\n",
       "NEAR BAY      2270\n",
       "ISLAND           5\n",
       "Name: ocean_proximity, dtype: int64"
      ]
     },
     "execution_count": 12,
     "metadata": {},
     "output_type": "execute_result"
    }
   ],
   "source": [
    "california['ocean_proximity'].value_counts()"
   ]
  },
  {
   "cell_type": "code",
   "execution_count": 13,
   "id": "aec8677c",
   "metadata": {},
   "outputs": [
    {
     "data": {
      "text/html": [
       "<div>\n",
       "<style scoped>\n",
       "    .dataframe tbody tr th:only-of-type {\n",
       "        vertical-align: middle;\n",
       "    }\n",
       "\n",
       "    .dataframe tbody tr th {\n",
       "        vertical-align: top;\n",
       "    }\n",
       "\n",
       "    .dataframe thead th {\n",
       "        text-align: right;\n",
       "    }\n",
       "</style>\n",
       "<table border=\"1\" class=\"dataframe\">\n",
       "  <thead>\n",
       "    <tr style=\"text-align: right;\">\n",
       "      <th></th>\n",
       "      <th>longitude</th>\n",
       "      <th>latitude</th>\n",
       "      <th>housing_median_age</th>\n",
       "      <th>total_rooms</th>\n",
       "      <th>total_bedrooms</th>\n",
       "      <th>population</th>\n",
       "      <th>households</th>\n",
       "      <th>median_income</th>\n",
       "      <th>median_house_value</th>\n",
       "      <th>ocean_proximity_&lt;1H OCEAN</th>\n",
       "      <th>ocean_proximity_INLAND</th>\n",
       "      <th>ocean_proximity_ISLAND</th>\n",
       "      <th>ocean_proximity_NEAR BAY</th>\n",
       "      <th>ocean_proximity_NEAR OCEAN</th>\n",
       "    </tr>\n",
       "  </thead>\n",
       "  <tbody>\n",
       "    <tr>\n",
       "      <th>0</th>\n",
       "      <td>-122.23</td>\n",
       "      <td>37.88</td>\n",
       "      <td>41.0</td>\n",
       "      <td>880.0</td>\n",
       "      <td>129.0</td>\n",
       "      <td>322.0</td>\n",
       "      <td>126.0</td>\n",
       "      <td>8.3252</td>\n",
       "      <td>452600.0</td>\n",
       "      <td>0</td>\n",
       "      <td>0</td>\n",
       "      <td>0</td>\n",
       "      <td>1</td>\n",
       "      <td>0</td>\n",
       "    </tr>\n",
       "    <tr>\n",
       "      <th>1</th>\n",
       "      <td>-122.22</td>\n",
       "      <td>37.86</td>\n",
       "      <td>21.0</td>\n",
       "      <td>7099.0</td>\n",
       "      <td>1106.0</td>\n",
       "      <td>2401.0</td>\n",
       "      <td>1138.0</td>\n",
       "      <td>8.3014</td>\n",
       "      <td>358500.0</td>\n",
       "      <td>0</td>\n",
       "      <td>0</td>\n",
       "      <td>0</td>\n",
       "      <td>1</td>\n",
       "      <td>0</td>\n",
       "    </tr>\n",
       "    <tr>\n",
       "      <th>2</th>\n",
       "      <td>-122.24</td>\n",
       "      <td>37.85</td>\n",
       "      <td>52.0</td>\n",
       "      <td>1467.0</td>\n",
       "      <td>190.0</td>\n",
       "      <td>496.0</td>\n",
       "      <td>177.0</td>\n",
       "      <td>7.2574</td>\n",
       "      <td>352100.0</td>\n",
       "      <td>0</td>\n",
       "      <td>0</td>\n",
       "      <td>0</td>\n",
       "      <td>1</td>\n",
       "      <td>0</td>\n",
       "    </tr>\n",
       "    <tr>\n",
       "      <th>3</th>\n",
       "      <td>-122.25</td>\n",
       "      <td>37.85</td>\n",
       "      <td>52.0</td>\n",
       "      <td>1274.0</td>\n",
       "      <td>235.0</td>\n",
       "      <td>558.0</td>\n",
       "      <td>219.0</td>\n",
       "      <td>5.6431</td>\n",
       "      <td>341300.0</td>\n",
       "      <td>0</td>\n",
       "      <td>0</td>\n",
       "      <td>0</td>\n",
       "      <td>1</td>\n",
       "      <td>0</td>\n",
       "    </tr>\n",
       "    <tr>\n",
       "      <th>4</th>\n",
       "      <td>-122.25</td>\n",
       "      <td>37.85</td>\n",
       "      <td>52.0</td>\n",
       "      <td>1627.0</td>\n",
       "      <td>280.0</td>\n",
       "      <td>565.0</td>\n",
       "      <td>259.0</td>\n",
       "      <td>3.8462</td>\n",
       "      <td>342200.0</td>\n",
       "      <td>0</td>\n",
       "      <td>0</td>\n",
       "      <td>0</td>\n",
       "      <td>1</td>\n",
       "      <td>0</td>\n",
       "    </tr>\n",
       "  </tbody>\n",
       "</table>\n",
       "</div>"
      ],
      "text/plain": [
       "   longitude  latitude  housing_median_age  total_rooms  total_bedrooms  \\\n",
       "0    -122.23     37.88                41.0        880.0           129.0   \n",
       "1    -122.22     37.86                21.0       7099.0          1106.0   \n",
       "2    -122.24     37.85                52.0       1467.0           190.0   \n",
       "3    -122.25     37.85                52.0       1274.0           235.0   \n",
       "4    -122.25     37.85                52.0       1627.0           280.0   \n",
       "\n",
       "   population  households  median_income  median_house_value  \\\n",
       "0       322.0       126.0         8.3252            452600.0   \n",
       "1      2401.0      1138.0         8.3014            358500.0   \n",
       "2       496.0       177.0         7.2574            352100.0   \n",
       "3       558.0       219.0         5.6431            341300.0   \n",
       "4       565.0       259.0         3.8462            342200.0   \n",
       "\n",
       "   ocean_proximity_<1H OCEAN  ocean_proximity_INLAND  ocean_proximity_ISLAND  \\\n",
       "0                          0                       0                       0   \n",
       "1                          0                       0                       0   \n",
       "2                          0                       0                       0   \n",
       "3                          0                       0                       0   \n",
       "4                          0                       0                       0   \n",
       "\n",
       "   ocean_proximity_NEAR BAY  ocean_proximity_NEAR OCEAN  \n",
       "0                         1                           0  \n",
       "1                         1                           0  \n",
       "2                         1                           0  \n",
       "3                         1                           0  \n",
       "4                         1                           0  "
      ]
     },
     "execution_count": 13,
     "metadata": {},
     "output_type": "execute_result"
    }
   ],
   "source": [
    "california = pd.get_dummies(california)\n",
    "california.head()"
   ]
  },
  {
   "cell_type": "markdown",
   "id": "3d056894",
   "metadata": {},
   "source": [
    "## Splitting the Data into Features (X) and Target (y)"
   ]
  },
  {
   "cell_type": "code",
   "execution_count": 14,
   "id": "6f34e198",
   "metadata": {},
   "outputs": [
    {
     "data": {
      "text/html": [
       "<div>\n",
       "<style scoped>\n",
       "    .dataframe tbody tr th:only-of-type {\n",
       "        vertical-align: middle;\n",
       "    }\n",
       "\n",
       "    .dataframe tbody tr th {\n",
       "        vertical-align: top;\n",
       "    }\n",
       "\n",
       "    .dataframe thead th {\n",
       "        text-align: right;\n",
       "    }\n",
       "</style>\n",
       "<table border=\"1\" class=\"dataframe\">\n",
       "  <thead>\n",
       "    <tr style=\"text-align: right;\">\n",
       "      <th></th>\n",
       "      <th>longitude</th>\n",
       "      <th>latitude</th>\n",
       "      <th>housing_median_age</th>\n",
       "      <th>total_rooms</th>\n",
       "      <th>total_bedrooms</th>\n",
       "      <th>population</th>\n",
       "      <th>households</th>\n",
       "      <th>median_income</th>\n",
       "      <th>ocean_proximity_&lt;1H OCEAN</th>\n",
       "      <th>ocean_proximity_INLAND</th>\n",
       "      <th>ocean_proximity_ISLAND</th>\n",
       "      <th>ocean_proximity_NEAR BAY</th>\n",
       "      <th>ocean_proximity_NEAR OCEAN</th>\n",
       "    </tr>\n",
       "  </thead>\n",
       "  <tbody>\n",
       "    <tr>\n",
       "      <th>0</th>\n",
       "      <td>-122.23</td>\n",
       "      <td>37.88</td>\n",
       "      <td>41.0</td>\n",
       "      <td>880.0</td>\n",
       "      <td>129.0</td>\n",
       "      <td>322.0</td>\n",
       "      <td>126.0</td>\n",
       "      <td>8.3252</td>\n",
       "      <td>0</td>\n",
       "      <td>0</td>\n",
       "      <td>0</td>\n",
       "      <td>1</td>\n",
       "      <td>0</td>\n",
       "    </tr>\n",
       "    <tr>\n",
       "      <th>1</th>\n",
       "      <td>-122.22</td>\n",
       "      <td>37.86</td>\n",
       "      <td>21.0</td>\n",
       "      <td>7099.0</td>\n",
       "      <td>1106.0</td>\n",
       "      <td>2401.0</td>\n",
       "      <td>1138.0</td>\n",
       "      <td>8.3014</td>\n",
       "      <td>0</td>\n",
       "      <td>0</td>\n",
       "      <td>0</td>\n",
       "      <td>1</td>\n",
       "      <td>0</td>\n",
       "    </tr>\n",
       "    <tr>\n",
       "      <th>2</th>\n",
       "      <td>-122.24</td>\n",
       "      <td>37.85</td>\n",
       "      <td>52.0</td>\n",
       "      <td>1467.0</td>\n",
       "      <td>190.0</td>\n",
       "      <td>496.0</td>\n",
       "      <td>177.0</td>\n",
       "      <td>7.2574</td>\n",
       "      <td>0</td>\n",
       "      <td>0</td>\n",
       "      <td>0</td>\n",
       "      <td>1</td>\n",
       "      <td>0</td>\n",
       "    </tr>\n",
       "    <tr>\n",
       "      <th>3</th>\n",
       "      <td>-122.25</td>\n",
       "      <td>37.85</td>\n",
       "      <td>52.0</td>\n",
       "      <td>1274.0</td>\n",
       "      <td>235.0</td>\n",
       "      <td>558.0</td>\n",
       "      <td>219.0</td>\n",
       "      <td>5.6431</td>\n",
       "      <td>0</td>\n",
       "      <td>0</td>\n",
       "      <td>0</td>\n",
       "      <td>1</td>\n",
       "      <td>0</td>\n",
       "    </tr>\n",
       "    <tr>\n",
       "      <th>4</th>\n",
       "      <td>-122.25</td>\n",
       "      <td>37.85</td>\n",
       "      <td>52.0</td>\n",
       "      <td>1627.0</td>\n",
       "      <td>280.0</td>\n",
       "      <td>565.0</td>\n",
       "      <td>259.0</td>\n",
       "      <td>3.8462</td>\n",
       "      <td>0</td>\n",
       "      <td>0</td>\n",
       "      <td>0</td>\n",
       "      <td>1</td>\n",
       "      <td>0</td>\n",
       "    </tr>\n",
       "  </tbody>\n",
       "</table>\n",
       "</div>"
      ],
      "text/plain": [
       "   longitude  latitude  housing_median_age  total_rooms  total_bedrooms  \\\n",
       "0    -122.23     37.88                41.0        880.0           129.0   \n",
       "1    -122.22     37.86                21.0       7099.0          1106.0   \n",
       "2    -122.24     37.85                52.0       1467.0           190.0   \n",
       "3    -122.25     37.85                52.0       1274.0           235.0   \n",
       "4    -122.25     37.85                52.0       1627.0           280.0   \n",
       "\n",
       "   population  households  median_income  ocean_proximity_<1H OCEAN  \\\n",
       "0       322.0       126.0         8.3252                          0   \n",
       "1      2401.0      1138.0         8.3014                          0   \n",
       "2       496.0       177.0         7.2574                          0   \n",
       "3       558.0       219.0         5.6431                          0   \n",
       "4       565.0       259.0         3.8462                          0   \n",
       "\n",
       "   ocean_proximity_INLAND  ocean_proximity_ISLAND  ocean_proximity_NEAR BAY  \\\n",
       "0                       0                       0                         1   \n",
       "1                       0                       0                         1   \n",
       "2                       0                       0                         1   \n",
       "3                       0                       0                         1   \n",
       "4                       0                       0                         1   \n",
       "\n",
       "   ocean_proximity_NEAR OCEAN  \n",
       "0                           0  \n",
       "1                           0  \n",
       "2                           0  \n",
       "3                           0  \n",
       "4                           0  "
      ]
     },
     "execution_count": 14,
     "metadata": {},
     "output_type": "execute_result"
    }
   ],
   "source": [
    "X_california = california.drop('median_house_value', axis = 1)\n",
    "X_california.head()"
   ]
  },
  {
   "cell_type": "code",
   "execution_count": 15,
   "id": "614024f0",
   "metadata": {},
   "outputs": [
    {
     "data": {
      "text/plain": [
       "0    452600.0\n",
       "1    358500.0\n",
       "2    352100.0\n",
       "3    341300.0\n",
       "4    342200.0\n",
       "Name: median_house_value, dtype: float64"
      ]
     },
     "execution_count": 15,
     "metadata": {},
     "output_type": "execute_result"
    }
   ],
   "source": [
    "y_california = california['median_house_value']\n",
    "y_california.head()"
   ]
  },
  {
   "cell_type": "markdown",
   "id": "6c116353",
   "metadata": {},
   "source": [
    "<a id='train-test'></a>\n",
    "## Splitting the Data into Training and Test Sets"
   ]
  },
  {
   "cell_type": "code",
   "execution_count": 16,
   "id": "f7550a68",
   "metadata": {},
   "outputs": [],
   "source": [
    "X_train, X_test, y_train, y_test = train_test_split(X_california,y_california, random_state = 42)"
   ]
  },
  {
   "cell_type": "markdown",
   "id": "390ea65a",
   "metadata": {},
   "source": [
    "<a id='feature-scaling'></a>\n",
    "## Normalizing the dataset using StandardScaler"
   ]
  },
  {
   "cell_type": "code",
   "execution_count": 17,
   "id": "2c6c836f",
   "metadata": {},
   "outputs": [],
   "source": [
    "n = X_california.columns.get_loc('median_income') + 1"
   ]
  },
  {
   "cell_type": "code",
   "execution_count": 18,
   "id": "75602c79",
   "metadata": {},
   "outputs": [
    {
     "data": {
      "text/plain": [
       "StandardScaler()"
      ]
     },
     "execution_count": 18,
     "metadata": {},
     "output_type": "execute_result"
    }
   ],
   "source": [
    "from sklearn.preprocessing import StandardScaler\n",
    "scaler = StandardScaler()\n",
    "scaler.fit(X_train.iloc[:, :n])"
   ]
  },
  {
   "cell_type": "code",
   "execution_count": 19,
   "id": "8aab1fff",
   "metadata": {},
   "outputs": [],
   "source": [
    "def custom_transform(X):\n",
    "    temp = np.copy(X)\n",
    "    temp[:, :n] = scaler.transform(temp[:, :n])\n",
    "    return temp"
   ]
  },
  {
   "cell_type": "code",
   "execution_count": 20,
   "id": "129bc0b0",
   "metadata": {},
   "outputs": [],
   "source": [
    "X_train_scaled = custom_transform(X_train)\n",
    "X_train_scaled_df = pd.DataFrame(X_train_scaled, columns=X_train.columns)"
   ]
  },
  {
   "cell_type": "code",
   "execution_count": 21,
   "id": "2eaea654",
   "metadata": {},
   "outputs": [
    {
     "data": {
      "text/html": [
       "<div>\n",
       "<style scoped>\n",
       "    .dataframe tbody tr th:only-of-type {\n",
       "        vertical-align: middle;\n",
       "    }\n",
       "\n",
       "    .dataframe tbody tr th {\n",
       "        vertical-align: top;\n",
       "    }\n",
       "\n",
       "    .dataframe thead th {\n",
       "        text-align: right;\n",
       "    }\n",
       "</style>\n",
       "<table border=\"1\" class=\"dataframe\">\n",
       "  <thead>\n",
       "    <tr style=\"text-align: right;\">\n",
       "      <th></th>\n",
       "      <th>longitude</th>\n",
       "      <th>latitude</th>\n",
       "      <th>housing_median_age</th>\n",
       "      <th>total_rooms</th>\n",
       "      <th>total_bedrooms</th>\n",
       "      <th>population</th>\n",
       "      <th>households</th>\n",
       "      <th>median_income</th>\n",
       "      <th>ocean_proximity_&lt;1H OCEAN</th>\n",
       "      <th>ocean_proximity_INLAND</th>\n",
       "      <th>ocean_proximity_ISLAND</th>\n",
       "      <th>ocean_proximity_NEAR BAY</th>\n",
       "      <th>ocean_proximity_NEAR OCEAN</th>\n",
       "    </tr>\n",
       "  </thead>\n",
       "  <tbody>\n",
       "    <tr>\n",
       "      <th>0</th>\n",
       "      <td>0.283864</td>\n",
       "      <td>-0.110203</td>\n",
       "      <td>-1.401160</td>\n",
       "      <td>2.831818</td>\n",
       "      <td>3.955622</td>\n",
       "      <td>2.953847</td>\n",
       "      <td>3.754956</td>\n",
       "      <td>-1.137989</td>\n",
       "      <td>0.0</td>\n",
       "      <td>1.0</td>\n",
       "      <td>0.0</td>\n",
       "      <td>0.0</td>\n",
       "      <td>0.0</td>\n",
       "    </tr>\n",
       "    <tr>\n",
       "      <th>1</th>\n",
       "      <td>1.307661</td>\n",
       "      <td>-1.371039</td>\n",
       "      <td>-0.844886</td>\n",
       "      <td>-0.097857</td>\n",
       "      <td>-0.005963</td>\n",
       "      <td>-0.257076</td>\n",
       "      <td>0.141842</td>\n",
       "      <td>-0.745415</td>\n",
       "      <td>1.0</td>\n",
       "      <td>0.0</td>\n",
       "      <td>0.0</td>\n",
       "      <td>0.0</td>\n",
       "      <td>0.0</td>\n",
       "    </tr>\n",
       "    <tr>\n",
       "      <th>2</th>\n",
       "      <td>0.628459</td>\n",
       "      <td>-1.071063</td>\n",
       "      <td>-0.129677</td>\n",
       "      <td>-0.439637</td>\n",
       "      <td>-0.034653</td>\n",
       "      <td>-0.595577</td>\n",
       "      <td>-0.439215</td>\n",
       "      <td>-0.902697</td>\n",
       "      <td>0.0</td>\n",
       "      <td>0.0</td>\n",
       "      <td>1.0</td>\n",
       "      <td>0.0</td>\n",
       "      <td>0.0</td>\n",
       "    </tr>\n",
       "    <tr>\n",
       "      <th>3</th>\n",
       "      <td>1.227755</td>\n",
       "      <td>-1.375726</td>\n",
       "      <td>0.744468</td>\n",
       "      <td>-0.836528</td>\n",
       "      <td>-0.761461</td>\n",
       "      <td>-0.411819</td>\n",
       "      <td>-0.703331</td>\n",
       "      <td>-1.484241</td>\n",
       "      <td>0.0</td>\n",
       "      <td>0.0</td>\n",
       "      <td>0.0</td>\n",
       "      <td>0.0</td>\n",
       "      <td>1.0</td>\n",
       "    </tr>\n",
       "    <tr>\n",
       "      <th>4</th>\n",
       "      <td>-1.299277</td>\n",
       "      <td>0.995958</td>\n",
       "      <td>1.141806</td>\n",
       "      <td>-0.280788</td>\n",
       "      <td>-0.304815</td>\n",
       "      <td>-0.272902</td>\n",
       "      <td>-0.344133</td>\n",
       "      <td>-1.043030</td>\n",
       "      <td>0.0</td>\n",
       "      <td>0.0</td>\n",
       "      <td>0.0</td>\n",
       "      <td>1.0</td>\n",
       "      <td>0.0</td>\n",
       "    </tr>\n",
       "    <tr>\n",
       "      <th>...</th>\n",
       "      <td>...</td>\n",
       "      <td>...</td>\n",
       "      <td>...</td>\n",
       "      <td>...</td>\n",
       "      <td>...</td>\n",
       "      <td>...</td>\n",
       "      <td>...</td>\n",
       "      <td>...</td>\n",
       "      <td>...</td>\n",
       "      <td>...</td>\n",
       "      <td>...</td>\n",
       "      <td>...</td>\n",
       "      <td>...</td>\n",
       "    </tr>\n",
       "    <tr>\n",
       "      <th>15319</th>\n",
       "      <td>0.803253</td>\n",
       "      <td>-0.897639</td>\n",
       "      <td>-0.368080</td>\n",
       "      <td>0.169825</td>\n",
       "      <td>-0.084860</td>\n",
       "      <td>0.013725</td>\n",
       "      <td>-0.116992</td>\n",
       "      <td>0.818932</td>\n",
       "      <td>1.0</td>\n",
       "      <td>0.0</td>\n",
       "      <td>0.0</td>\n",
       "      <td>0.0</td>\n",
       "      <td>0.0</td>\n",
       "    </tr>\n",
       "    <tr>\n",
       "      <th>15320</th>\n",
       "      <td>1.018001</td>\n",
       "      <td>-0.878891</td>\n",
       "      <td>-1.877966</td>\n",
       "      <td>1.492022</td>\n",
       "      <td>1.194228</td>\n",
       "      <td>1.614790</td>\n",
       "      <td>1.330366</td>\n",
       "      <td>0.486207</td>\n",
       "      <td>1.0</td>\n",
       "      <td>0.0</td>\n",
       "      <td>0.0</td>\n",
       "      <td>0.0</td>\n",
       "      <td>0.0</td>\n",
       "    </tr>\n",
       "    <tr>\n",
       "      <th>15321</th>\n",
       "      <td>0.578517</td>\n",
       "      <td>-0.761713</td>\n",
       "      <td>1.062338</td>\n",
       "      <td>-0.477149</td>\n",
       "      <td>-0.398057</td>\n",
       "      <td>-0.412698</td>\n",
       "      <td>-0.357338</td>\n",
       "      <td>-0.407322</td>\n",
       "      <td>1.0</td>\n",
       "      <td>0.0</td>\n",
       "      <td>0.0</td>\n",
       "      <td>0.0</td>\n",
       "      <td>0.0</td>\n",
       "    </tr>\n",
       "    <tr>\n",
       "      <th>15322</th>\n",
       "      <td>-1.229359</td>\n",
       "      <td>0.906902</td>\n",
       "      <td>-1.321692</td>\n",
       "      <td>1.433206</td>\n",
       "      <td>1.263561</td>\n",
       "      <td>1.771292</td>\n",
       "      <td>1.478271</td>\n",
       "      <td>0.744870</td>\n",
       "      <td>0.0</td>\n",
       "      <td>0.0</td>\n",
       "      <td>0.0</td>\n",
       "      <td>1.0</td>\n",
       "      <td>0.0</td>\n",
       "    </tr>\n",
       "    <tr>\n",
       "      <th>15323</th>\n",
       "      <td>-1.424130</td>\n",
       "      <td>0.981896</td>\n",
       "      <td>1.857015</td>\n",
       "      <td>0.452789</td>\n",
       "      <td>0.484155</td>\n",
       "      <td>0.746118</td>\n",
       "      <td>0.395394</td>\n",
       "      <td>0.010834</td>\n",
       "      <td>0.0</td>\n",
       "      <td>0.0</td>\n",
       "      <td>0.0</td>\n",
       "      <td>1.0</td>\n",
       "      <td>0.0</td>\n",
       "    </tr>\n",
       "  </tbody>\n",
       "</table>\n",
       "<p>15324 rows × 13 columns</p>\n",
       "</div>"
      ],
      "text/plain": [
       "       longitude  latitude  housing_median_age  total_rooms  total_bedrooms  \\\n",
       "0       0.283864 -0.110203           -1.401160     2.831818        3.955622   \n",
       "1       1.307661 -1.371039           -0.844886    -0.097857       -0.005963   \n",
       "2       0.628459 -1.071063           -0.129677    -0.439637       -0.034653   \n",
       "3       1.227755 -1.375726            0.744468    -0.836528       -0.761461   \n",
       "4      -1.299277  0.995958            1.141806    -0.280788       -0.304815   \n",
       "...          ...       ...                 ...          ...             ...   \n",
       "15319   0.803253 -0.897639           -0.368080     0.169825       -0.084860   \n",
       "15320   1.018001 -0.878891           -1.877966     1.492022        1.194228   \n",
       "15321   0.578517 -0.761713            1.062338    -0.477149       -0.398057   \n",
       "15322  -1.229359  0.906902           -1.321692     1.433206        1.263561   \n",
       "15323  -1.424130  0.981896            1.857015     0.452789        0.484155   \n",
       "\n",
       "       population  households  median_income  ocean_proximity_<1H OCEAN  \\\n",
       "0        2.953847    3.754956      -1.137989                        0.0   \n",
       "1       -0.257076    0.141842      -0.745415                        1.0   \n",
       "2       -0.595577   -0.439215      -0.902697                        0.0   \n",
       "3       -0.411819   -0.703331      -1.484241                        0.0   \n",
       "4       -0.272902   -0.344133      -1.043030                        0.0   \n",
       "...           ...         ...            ...                        ...   \n",
       "15319    0.013725   -0.116992       0.818932                        1.0   \n",
       "15320    1.614790    1.330366       0.486207                        1.0   \n",
       "15321   -0.412698   -0.357338      -0.407322                        1.0   \n",
       "15322    1.771292    1.478271       0.744870                        0.0   \n",
       "15323    0.746118    0.395394       0.010834                        0.0   \n",
       "\n",
       "       ocean_proximity_INLAND  ocean_proximity_ISLAND  \\\n",
       "0                         1.0                     0.0   \n",
       "1                         0.0                     0.0   \n",
       "2                         0.0                     1.0   \n",
       "3                         0.0                     0.0   \n",
       "4                         0.0                     0.0   \n",
       "...                       ...                     ...   \n",
       "15319                     0.0                     0.0   \n",
       "15320                     0.0                     0.0   \n",
       "15321                     0.0                     0.0   \n",
       "15322                     0.0                     0.0   \n",
       "15323                     0.0                     0.0   \n",
       "\n",
       "       ocean_proximity_NEAR BAY  ocean_proximity_NEAR OCEAN  \n",
       "0                           0.0                         0.0  \n",
       "1                           0.0                         0.0  \n",
       "2                           0.0                         0.0  \n",
       "3                           0.0                         1.0  \n",
       "4                           1.0                         0.0  \n",
       "...                         ...                         ...  \n",
       "15319                       0.0                         0.0  \n",
       "15320                       0.0                         0.0  \n",
       "15321                       0.0                         0.0  \n",
       "15322                       1.0                         0.0  \n",
       "15323                       1.0                         0.0  \n",
       "\n",
       "[15324 rows x 13 columns]"
      ]
     },
     "execution_count": 21,
     "metadata": {},
     "output_type": "execute_result"
    }
   ],
   "source": [
    "pd.DataFrame(X_train_scaled_df)"
   ]
  },
  {
   "cell_type": "code",
   "execution_count": 22,
   "id": "e8651642",
   "metadata": {},
   "outputs": [],
   "source": [
    "X_test_scaled = custom_transform(X_test)\n",
    "X_test_scaled_df = pd.DataFrame(X_test_scaled, columns = X_test.columns)"
   ]
  },
  {
   "cell_type": "code",
   "execution_count": 23,
   "id": "2f71bbc9",
   "metadata": {
    "scrolled": true
   },
   "outputs": [
    {
     "data": {
      "text/html": [
       "<div>\n",
       "<style scoped>\n",
       "    .dataframe tbody tr th:only-of-type {\n",
       "        vertical-align: middle;\n",
       "    }\n",
       "\n",
       "    .dataframe tbody tr th {\n",
       "        vertical-align: top;\n",
       "    }\n",
       "\n",
       "    .dataframe thead th {\n",
       "        text-align: right;\n",
       "    }\n",
       "</style>\n",
       "<table border=\"1\" class=\"dataframe\">\n",
       "  <thead>\n",
       "    <tr style=\"text-align: right;\">\n",
       "      <th></th>\n",
       "      <th>longitude</th>\n",
       "      <th>latitude</th>\n",
       "      <th>housing_median_age</th>\n",
       "      <th>total_rooms</th>\n",
       "      <th>total_bedrooms</th>\n",
       "      <th>population</th>\n",
       "      <th>households</th>\n",
       "      <th>median_income</th>\n",
       "      <th>ocean_proximity_&lt;1H OCEAN</th>\n",
       "      <th>ocean_proximity_INLAND</th>\n",
       "      <th>ocean_proximity_ISLAND</th>\n",
       "      <th>ocean_proximity_NEAR BAY</th>\n",
       "      <th>ocean_proximity_NEAR OCEAN</th>\n",
       "    </tr>\n",
       "  </thead>\n",
       "  <tbody>\n",
       "    <tr>\n",
       "      <th>0</th>\n",
       "      <td>1.167825</td>\n",
       "      <td>-1.333542</td>\n",
       "      <td>-0.685951</td>\n",
       "      <td>-0.770302</td>\n",
       "      <td>-0.615621</td>\n",
       "      <td>-0.788127</td>\n",
       "      <td>-0.642584</td>\n",
       "      <td>-0.362685</td>\n",
       "      <td>0.0</td>\n",
       "      <td>0.0</td>\n",
       "      <td>0.0</td>\n",
       "      <td>0.0</td>\n",
       "      <td>1.0</td>\n",
       "    </tr>\n",
       "    <tr>\n",
       "      <th>1</th>\n",
       "      <td>-0.854799</td>\n",
       "      <td>1.113136</td>\n",
       "      <td>-2.116369</td>\n",
       "      <td>1.749978</td>\n",
       "      <td>1.387884</td>\n",
       "      <td>1.675457</td>\n",
       "      <td>1.214155</td>\n",
       "      <td>0.323346</td>\n",
       "      <td>0.0</td>\n",
       "      <td>1.0</td>\n",
       "      <td>0.0</td>\n",
       "      <td>0.0</td>\n",
       "      <td>0.0</td>\n",
       "    </tr>\n",
       "    <tr>\n",
       "      <th>2</th>\n",
       "      <td>0.718353</td>\n",
       "      <td>-0.803897</td>\n",
       "      <td>0.188194</td>\n",
       "      <td>0.512531</td>\n",
       "      <td>0.759099</td>\n",
       "      <td>0.783924</td>\n",
       "      <td>0.802133</td>\n",
       "      <td>-0.341682</td>\n",
       "      <td>1.0</td>\n",
       "      <td>0.0</td>\n",
       "      <td>0.0</td>\n",
       "      <td>0.0</td>\n",
       "      <td>0.0</td>\n",
       "    </tr>\n",
       "    <tr>\n",
       "      <th>3</th>\n",
       "      <td>-1.244341</td>\n",
       "      <td>1.080326</td>\n",
       "      <td>0.108726</td>\n",
       "      <td>-0.631830</td>\n",
       "      <td>-0.620403</td>\n",
       "      <td>-0.628108</td>\n",
       "      <td>-0.729743</td>\n",
       "      <td>-0.516282</td>\n",
       "      <td>0.0</td>\n",
       "      <td>0.0</td>\n",
       "      <td>0.0</td>\n",
       "      <td>1.0</td>\n",
       "      <td>0.0</td>\n",
       "    </tr>\n",
       "    <tr>\n",
       "      <th>4</th>\n",
       "      <td>-1.154447</td>\n",
       "      <td>1.103762</td>\n",
       "      <td>-1.957433</td>\n",
       "      <td>-0.209931</td>\n",
       "      <td>0.147049</td>\n",
       "      <td>-0.433800</td>\n",
       "      <td>-0.095863</td>\n",
       "      <td>0.120426</td>\n",
       "      <td>0.0</td>\n",
       "      <td>1.0</td>\n",
       "      <td>0.0</td>\n",
       "      <td>0.0</td>\n",
       "      <td>0.0</td>\n",
       "    </tr>\n",
       "    <tr>\n",
       "      <th>...</th>\n",
       "      <td>...</td>\n",
       "      <td>...</td>\n",
       "      <td>...</td>\n",
       "      <td>...</td>\n",
       "      <td>...</td>\n",
       "      <td>...</td>\n",
       "      <td>...</td>\n",
       "      <td>...</td>\n",
       "      <td>...</td>\n",
       "      <td>...</td>\n",
       "      <td>...</td>\n",
       "      <td>...</td>\n",
       "      <td>...</td>\n",
       "    </tr>\n",
       "    <tr>\n",
       "      <th>5104</th>\n",
       "      <td>1.247731</td>\n",
       "      <td>-1.361665</td>\n",
       "      <td>0.585532</td>\n",
       "      <td>-0.679068</td>\n",
       "      <td>-0.759070</td>\n",
       "      <td>-0.705480</td>\n",
       "      <td>-0.698049</td>\n",
       "      <td>-0.137026</td>\n",
       "      <td>0.0</td>\n",
       "      <td>0.0</td>\n",
       "      <td>0.0</td>\n",
       "      <td>0.0</td>\n",
       "      <td>1.0</td>\n",
       "    </tr>\n",
       "    <tr>\n",
       "      <th>5105</th>\n",
       "      <td>1.257719</td>\n",
       "      <td>-1.431971</td>\n",
       "      <td>-1.401160</td>\n",
       "      <td>0.117955</td>\n",
       "      <td>0.343097</td>\n",
       "      <td>0.594891</td>\n",
       "      <td>0.464064</td>\n",
       "      <td>-0.189664</td>\n",
       "      <td>0.0</td>\n",
       "      <td>0.0</td>\n",
       "      <td>0.0</td>\n",
       "      <td>0.0</td>\n",
       "      <td>1.0</td>\n",
       "    </tr>\n",
       "    <tr>\n",
       "      <th>5106</th>\n",
       "      <td>-0.709969</td>\n",
       "      <td>0.949087</td>\n",
       "      <td>1.141806</td>\n",
       "      <td>-0.118234</td>\n",
       "      <td>-0.292861</td>\n",
       "      <td>-0.419732</td>\n",
       "      <td>-0.198869</td>\n",
       "      <td>-0.320890</td>\n",
       "      <td>0.0</td>\n",
       "      <td>1.0</td>\n",
       "      <td>0.0</td>\n",
       "      <td>0.0</td>\n",
       "      <td>0.0</td>\n",
       "    </tr>\n",
       "    <tr>\n",
       "      <th>5107</th>\n",
       "      <td>-1.104505</td>\n",
       "      <td>1.427173</td>\n",
       "      <td>-0.368080</td>\n",
       "      <td>0.541707</td>\n",
       "      <td>0.747145</td>\n",
       "      <td>0.706553</td>\n",
       "      <td>0.968527</td>\n",
       "      <td>-0.561130</td>\n",
       "      <td>0.0</td>\n",
       "      <td>1.0</td>\n",
       "      <td>0.0</td>\n",
       "      <td>0.0</td>\n",
       "      <td>0.0</td>\n",
       "    </tr>\n",
       "    <tr>\n",
       "      <th>5108</th>\n",
       "      <td>-0.655033</td>\n",
       "      <td>0.892841</td>\n",
       "      <td>0.108726</td>\n",
       "      <td>-0.979631</td>\n",
       "      <td>-1.005325</td>\n",
       "      <td>-1.007933</td>\n",
       "      <td>-1.009706</td>\n",
       "      <td>-0.844796</td>\n",
       "      <td>0.0</td>\n",
       "      <td>1.0</td>\n",
       "      <td>0.0</td>\n",
       "      <td>0.0</td>\n",
       "      <td>0.0</td>\n",
       "    </tr>\n",
       "  </tbody>\n",
       "</table>\n",
       "<p>5109 rows × 13 columns</p>\n",
       "</div>"
      ],
      "text/plain": [
       "      longitude  latitude  housing_median_age  total_rooms  total_bedrooms  \\\n",
       "0      1.167825 -1.333542           -0.685951    -0.770302       -0.615621   \n",
       "1     -0.854799  1.113136           -2.116369     1.749978        1.387884   \n",
       "2      0.718353 -0.803897            0.188194     0.512531        0.759099   \n",
       "3     -1.244341  1.080326            0.108726    -0.631830       -0.620403   \n",
       "4     -1.154447  1.103762           -1.957433    -0.209931        0.147049   \n",
       "...         ...       ...                 ...          ...             ...   \n",
       "5104   1.247731 -1.361665            0.585532    -0.679068       -0.759070   \n",
       "5105   1.257719 -1.431971           -1.401160     0.117955        0.343097   \n",
       "5106  -0.709969  0.949087            1.141806    -0.118234       -0.292861   \n",
       "5107  -1.104505  1.427173           -0.368080     0.541707        0.747145   \n",
       "5108  -0.655033  0.892841            0.108726    -0.979631       -1.005325   \n",
       "\n",
       "      population  households  median_income  ocean_proximity_<1H OCEAN  \\\n",
       "0      -0.788127   -0.642584      -0.362685                        0.0   \n",
       "1       1.675457    1.214155       0.323346                        0.0   \n",
       "2       0.783924    0.802133      -0.341682                        1.0   \n",
       "3      -0.628108   -0.729743      -0.516282                        0.0   \n",
       "4      -0.433800   -0.095863       0.120426                        0.0   \n",
       "...          ...         ...            ...                        ...   \n",
       "5104   -0.705480   -0.698049      -0.137026                        0.0   \n",
       "5105    0.594891    0.464064      -0.189664                        0.0   \n",
       "5106   -0.419732   -0.198869      -0.320890                        0.0   \n",
       "5107    0.706553    0.968527      -0.561130                        0.0   \n",
       "5108   -1.007933   -1.009706      -0.844796                        0.0   \n",
       "\n",
       "      ocean_proximity_INLAND  ocean_proximity_ISLAND  \\\n",
       "0                        0.0                     0.0   \n",
       "1                        1.0                     0.0   \n",
       "2                        0.0                     0.0   \n",
       "3                        0.0                     0.0   \n",
       "4                        1.0                     0.0   \n",
       "...                      ...                     ...   \n",
       "5104                     0.0                     0.0   \n",
       "5105                     0.0                     0.0   \n",
       "5106                     1.0                     0.0   \n",
       "5107                     1.0                     0.0   \n",
       "5108                     1.0                     0.0   \n",
       "\n",
       "      ocean_proximity_NEAR BAY  ocean_proximity_NEAR OCEAN  \n",
       "0                          0.0                         1.0  \n",
       "1                          0.0                         0.0  \n",
       "2                          0.0                         0.0  \n",
       "3                          1.0                         0.0  \n",
       "4                          0.0                         0.0  \n",
       "...                        ...                         ...  \n",
       "5104                       0.0                         1.0  \n",
       "5105                       0.0                         1.0  \n",
       "5106                       0.0                         0.0  \n",
       "5107                       0.0                         0.0  \n",
       "5108                       0.0                         0.0  \n",
       "\n",
       "[5109 rows x 13 columns]"
      ]
     },
     "execution_count": 23,
     "metadata": {},
     "output_type": "execute_result"
    }
   ],
   "source": [
    "pd.DataFrame(X_test_scaled_df)"
   ]
  },
  {
   "cell_type": "code",
   "execution_count": 24,
   "id": "ba3c29df",
   "metadata": {},
   "outputs": [],
   "source": [
    "y_train.reset_index(drop = True, inplace=True)\n",
    "y_test.reset_index(drop = True, inplace=True)"
   ]
  },
  {
   "cell_type": "markdown",
   "id": "c16da865",
   "metadata": {},
   "source": [
    "<a id='knn'></a>\n",
    "## Fitting K Nearest Neighbors Regression Model to the Dataset"
   ]
  },
  {
   "cell_type": "code",
   "execution_count": 27,
   "id": "f7079b48",
   "metadata": {},
   "outputs": [],
   "source": [
    "from KNN import KNNRegressor"
   ]
  },
  {
   "cell_type": "markdown",
   "id": "6ebb1e74",
   "metadata": {},
   "source": [
    "### Searching for best parameters"
   ]
  },
  {
   "cell_type": "code",
   "execution_count": 29,
   "id": "4ea0752d",
   "metadata": {},
   "outputs": [
    {
     "name": "stdout",
     "output_type": "stream",
     "text": [
      "KNNRegressor(n_neighbors=1, distance_type = 1, weighted = True)\n",
      "KNNRegressor(n_neighbors=1, distance_type = 1, weighted = False)\n",
      "KNNRegressor(n_neighbors=1, distance_type = 2, weighted = True)\n",
      "KNNRegressor(n_neighbors=1, distance_type = 2, weighted = False)\n",
      "KNNRegressor(n_neighbors=2, distance_type = 1, weighted = True)\n",
      "KNNRegressor(n_neighbors=2, distance_type = 1, weighted = False)\n",
      "KNNRegressor(n_neighbors=2, distance_type = 2, weighted = True)\n",
      "KNNRegressor(n_neighbors=2, distance_type = 2, weighted = False)\n",
      "KNNRegressor(n_neighbors=3, distance_type = 1, weighted = True)\n",
      "KNNRegressor(n_neighbors=3, distance_type = 1, weighted = False)\n",
      "KNNRegressor(n_neighbors=3, distance_type = 2, weighted = True)\n",
      "KNNRegressor(n_neighbors=3, distance_type = 2, weighted = False)\n",
      "KNNRegressor(n_neighbors=4, distance_type = 1, weighted = True)\n",
      "KNNRegressor(n_neighbors=4, distance_type = 1, weighted = False)\n",
      "KNNRegressor(n_neighbors=4, distance_type = 2, weighted = True)\n",
      "KNNRegressor(n_neighbors=4, distance_type = 2, weighted = False)\n",
      "KNNRegressor(n_neighbors=5, distance_type = 1, weighted = True)\n",
      "KNNRegressor(n_neighbors=5, distance_type = 1, weighted = False)\n",
      "KNNRegressor(n_neighbors=5, distance_type = 2, weighted = True)\n",
      "KNNRegressor(n_neighbors=5, distance_type = 2, weighted = False)\n",
      "\n",
      "That took 137.0 minute(s).\n",
      "\n",
      "Best value for n_neighbors: 5\n",
      "Best distance function: 1\n",
      "Weighted: True\n",
      "Best Score:0.7346569978090304\n"
     ]
    }
   ],
   "source": [
    "best_score = 0.0\n",
    "best_n_neighbors = 1\n",
    "best_distance_func = 2\n",
    "best_weighted = False\n",
    "\n",
    "n_neighbors = range(1, 6)\n",
    "\n",
    "start = time.time()\n",
    "for n in n_neighbors:\n",
    "    for d in [1,2]:\n",
    "        for w in [True, False]:\n",
    "            # Build the model\n",
    "            knn = KNNRegressor(n_neighbors = n, distance_type = d, weighted = w)\n",
    "            knn.fit(X_train_scaled_df, y_train)\n",
    "            current_score = knn.score(X_test_scaled_df, y_test)\n",
    "            if current_score > best_score:\n",
    "                best_score = current_score\n",
    "                best_n_neighbors = n\n",
    "                best_distance_func = d\n",
    "                best_weighted = w\n",
    "\n",
    "                \n",
    "print(f'\\nThat took {np.round((time.time() - start)/60)} minute(s).')                \n",
    "print(f'\\nBest value for n_neighbors: {best_n_neighbors}')\n",
    "print(f'Best distance function: {best_distance_func}')\n",
    "print(f'Weighted: {best_weighted}')\n",
    "print(f'Best Score: {best_score}')"
   ]
  },
  {
   "cell_type": "code",
   "execution_count": 30,
   "id": "6629ed72",
   "metadata": {},
   "outputs": [
    {
     "data": {
      "text/plain": [
       "0.7346569978090304"
      ]
     },
     "execution_count": 30,
     "metadata": {},
     "output_type": "execute_result"
    }
   ],
   "source": [
    "knn_score = best_score\n",
    "knn_score"
   ]
  },
  {
   "cell_type": "code",
   "execution_count": 36,
   "id": "1c6da3f0",
   "metadata": {},
   "outputs": [],
   "source": [
    "# knn_score = 0.7346569978090304\n",
    "# rr_score = 0.6553892965223076\n",
    "# krr_linear_score = 0.6541877462647631\n",
    "# krr_poly_score = 0.7539057131726862\n",
    "# krr_rbf_score = 0.7534629840467388"
   ]
  },
  {
   "cell_type": "markdown",
   "id": "e906b2f3",
   "metadata": {},
   "source": [
    "### How the scores change with respect to the number of neighbors"
   ]
  },
  {
   "cell_type": "code",
   "execution_count": 31,
   "id": "cd3b8b27",
   "metadata": {},
   "outputs": [
    {
     "name": "stdout",
     "output_type": "stream",
     "text": [
      "KNNRegressor(n_neighbors=1, distance_type = 1, weighted = True)\n",
      "KNNRegressor(n_neighbors=2, distance_type = 1, weighted = True)\n",
      "KNNRegressor(n_neighbors=3, distance_type = 1, weighted = True)\n",
      "KNNRegressor(n_neighbors=4, distance_type = 1, weighted = True)\n",
      "KNNRegressor(n_neighbors=5, distance_type = 1, weighted = True)\n",
      "That took 133.0 minute(s).\n"
     ]
    }
   ],
   "source": [
    "train_score = []\n",
    "test_score = []\n",
    "\n",
    "neighbors = range(1, 6)\n",
    "\n",
    "start = time.time()\n",
    "for n in neighbors:\n",
    "    # Build the model\n",
    "    knn = KNNRegressor(n_neighbors=n, distance_type = best_distance_func, weighted = best_weighted)\n",
    "    knn.fit(X_train_scaled_df, y_train)\n",
    "    # Record Training Score\n",
    "    train_score.append(knn.score(X_train_scaled_df, y_train))\n",
    "    # Record Test Score\n",
    "    test_score.append(knn.score(X_test_scaled_df, y_test))\n",
    "    \n",
    "print(f'That took {np.round((time.time() - start)/60)} minute(s).')"
   ]
  },
  {
   "cell_type": "code",
   "execution_count": 34,
   "id": "51f98318",
   "metadata": {},
   "outputs": [
    {
     "data": {
      "image/png": "[encoded data removed]",
      "text/plain": [
       "<Figure size 720x360 with 1 Axes>"
      ]
     },
     "metadata": {
      "needs_background": "light"
     },
     "output_type": "display_data"
    }
   ],
   "source": [
    "fig, ax = plt.subplots(figsize=(10,5))\n",
    "ax.plot(n_neighbors, train_score, label = 'Training Score')\n",
    "ax.plot(n_neighbors, test_score, label = 'Test Score')\n",
    "ax.set(xlabel = 'Number of Neighbors',\n",
    "       ylabel = '$R^2$ Score',\n",
    "       xticks = n_neighbors,\n",
    "       title = 'Weighted KNN (Manhattan Distance)')\n",
    "ax.legend();"
   ]
  },
  {
   "cell_type": "markdown",
   "id": "eb34b3cc",
   "metadata": {},
   "source": [
    "<a id='rfr'></a>\n",
    "## Using Random Forest Regression"
   ]
  },
  {
   "cell_type": "code",
   "execution_count": 25,
   "id": "3f68a6fc",
   "metadata": {},
   "outputs": [],
   "source": [
    "# Maximum number of features to consider at each node\n",
    "p = int(np.ceil(X_train.shape[1]/3))"
   ]
  },
  {
   "cell_type": "code",
   "execution_count": 26,
   "id": "ef66b061",
   "metadata": {},
   "outputs": [],
   "source": [
    "from RFR import RandomForestRegressor"
   ]
  },
  {
   "cell_type": "markdown",
   "id": "9614173e",
   "metadata": {},
   "source": [
    "### Searching for the model with the best parameters and best score"
   ]
  },
  {
   "cell_type": "code",
   "execution_count": 27,
   "id": "de09e7ca",
   "metadata": {},
   "outputs": [
    {
     "name": "stdout",
     "output_type": "stream",
     "text": [
      "That took 224.0 minute(s).\n",
      "\n",
      "Best value for min_samples_split: 5\n",
      "Best value for max_depth: 20\n",
      "Best Score: 0.8251726491389899\n"
     ]
    }
   ],
   "source": [
    "best_score = 0.0\n",
    "best_min_samples_split = 5\n",
    "best_max_depth = 5\n",
    "\n",
    "samples = [5, 50, 100]\n",
    "depths = [10, 20, 25]\n",
    "\n",
    "start = time.time()\n",
    "for s in samples:\n",
    "    for d in depths:\n",
    "        # Build the model\n",
    "        rf = RandomForestRegressor(n_estimators = 100, min_samples_split = s, max_depth = d, max_features = p)\n",
    "        rf.fit(X_train_scaled_df, y_train)\n",
    "        current_score = rf.score(X_test_scaled_df, y_test)\n",
    "        if current_score > best_score:\n",
    "            best_score = current_score\n",
    "            best_min_samples_split = s\n",
    "            best_max_depth = d\n",
    "                \n",
    "print(f'That took {np.round((time.time() - start)/60)} minute(s).')\n",
    "        \n",
    "print(f'\\nBest value for min_samples_split: {best_min_samples_split}')\n",
    "print(f'Best value for max_depth: {best_max_depth}')\n",
    "print(f'Best Score: {best_score}')"
   ]
  },
  {
   "cell_type": "code",
   "execution_count": 28,
   "id": "b67c8591",
   "metadata": {},
   "outputs": [
    {
     "data": {
      "text/plain": [
       "0.8251726491389899"
      ]
     },
     "execution_count": 28,
     "metadata": {},
     "output_type": "execute_result"
    }
   ],
   "source": [
    "rf_score = best_score\n",
    "rf_score"
   ]
  },
  {
   "cell_type": "markdown",
   "id": "f5cef6ae",
   "metadata": {},
   "source": [
    "### $R^2$ Scores with varying min_samples_split"
   ]
  },
  {
   "cell_type": "code",
   "execution_count": 30,
   "id": "f2915c40",
   "metadata": {},
   "outputs": [
    {
     "name": "stdout",
     "output_type": "stream",
     "text": [
      "That took 96.0 minute(s).\n"
     ]
    }
   ],
   "source": [
    "train_score = []\n",
    "test_score = []\n",
    "\n",
    "samples = [5, 100, 150, 200]\n",
    "\n",
    "start = time.time()\n",
    "for s in samples:\n",
    "    # Build the model\n",
    "    rf = RandomForestRegressor(n_estimators = 100, \n",
    "                               min_samples_split = s, \n",
    "                               max_depth = best_max_depth, \n",
    "                               max_features=p)\n",
    "    rf.fit(X_train_scaled_df, y_train)\n",
    "    # Record Training Score\n",
    "    train_score.append(rf.score(X_train_scaled_df, y_train))\n",
    "    # Record Test Score\n",
    "    test_score.append(rf.score(X_test_scaled_df, y_test))\n",
    "    \n",
    "print(f'That took {np.round((time.time() - start)/60)} minute(s).')"
   ]
  },
  {
   "cell_type": "code",
   "execution_count": 32,
   "id": "a366e11f",
   "metadata": {},
   "outputs": [
    {
     "data": {
      "image/png": "[encoded data removed]",
      "text/plain": [
       "<Figure size 720x360 with 1 Axes>"
      ]
     },
     "metadata": {
      "needs_background": "light"
     },
     "output_type": "display_data"
    }
   ],
   "source": [
    "fig, ax = plt.subplots(figsize=(10,5))\n",
    "ax.plot(samples, train_score, label = 'Training Score')\n",
    "ax.plot(samples, test_score, label = 'Test Score')\n",
    "ax.set(xlabel = 'Min Samples Split',\n",
    "       ylabel = '$R^2$ Score',\n",
    "       title = 'Random Forest Regression')\n",
    "ax.legend();"
   ]
  },
  {
   "cell_type": "markdown",
   "id": "b92459c8",
   "metadata": {},
   "source": [
    "### $R^2$ Scores with varying max_depth"
   ]
  },
  {
   "cell_type": "code",
   "execution_count": 33,
   "id": "15c2431c",
   "metadata": {},
   "outputs": [
    {
     "name": "stdout",
     "output_type": "stream",
     "text": [
      "That took 121.0 minute(s).\n"
     ]
    }
   ],
   "source": [
    "train_score = []\n",
    "test_score = []\n",
    "\n",
    "depths = [10, 15, 20, 25]\n",
    "\n",
    "start = time.time()\n",
    "for d in depths:\n",
    "    # Build the model\n",
    "    rf = RandomForestRegressor(n_estimators = 100, \n",
    "                               min_samples_split = best_min_samples_split, \n",
    "                               max_depth = d, \n",
    "                               max_features = p)\n",
    "    rf.fit(X_train_scaled_df, y_train)\n",
    "    # Record Training Score\n",
    "    train_score.append(rf.score(X_train_scaled_df, y_train))\n",
    "    # Record Test Score\n",
    "    test_score.append(rf.score(X_test_scaled_df, y_test))\n",
    "\n",
    "print(f'That took {np.round((time.time() - start)/60)} minute(s).')"
   ]
  },
  {
   "cell_type": "code",
   "execution_count": 34,
   "id": "e0d21e19",
   "metadata": {},
   "outputs": [
    {
     "data": {
      "image/png": "[encoded data removed]",
      "text/plain": [
       "<Figure size 720x360 with 1 Axes>"
      ]
     },
     "metadata": {
      "needs_background": "light"
     },
     "output_type": "display_data"
    }
   ],
   "source": [
    "fig, ax = plt.subplots(figsize=(10,5))\n",
    "ax.plot(depths, train_score, label = 'Training Score')\n",
    "ax.plot(depths, test_score, label = 'Test Score')\n",
    "ax.set(xlabel = 'Depth of Tree',\n",
    "       ylabel = '$R^2$ Score',\n",
    "       xticks = depths,\n",
    "       title = 'Random Forest Regression')\n",
    "ax.legend();"
   ]
  },
  {
   "cell_type": "markdown",
   "id": "235153ba",
   "metadata": {},
   "source": [
    "<a id='ridge'></a>\n",
    "## Using Ridge Regression"
   ]
  },
  {
   "cell_type": "code",
   "execution_count": 42,
   "id": "952ad9ff",
   "metadata": {},
   "outputs": [],
   "source": [
    "from RR import RidgeRegression"
   ]
  },
  {
   "cell_type": "code",
   "execution_count": 43,
   "id": "e36df905",
   "metadata": {},
   "outputs": [
    {
     "name": "stdout",
     "output_type": "stream",
     "text": [
      "\n",
      "Best value of alpha: 10\n",
      "Best Score: 0.6553892965223076\n"
     ]
    }
   ],
   "source": [
    "best_score = 0.0\n",
    "best_alpha = 1\n",
    "\n",
    "alphas = [0.1, 1, 10, 50, 100, 1000]\n",
    "\n",
    "for a in alphas:\n",
    "    rr = RidgeRegression(alpha = a)\n",
    "    rr.fit(X_train_scaled_df, y_train)\n",
    "    current_score = rr.score(X_test_scaled_df, y_test)\n",
    "    if current_score > best_score:\n",
    "        best_score = current_score\n",
    "        best_alpha = a\n",
    "        \n",
    "print(f'\\nBest value of alpha: {best_alpha}')\n",
    "print(f'Best Score: {best_score}')"
   ]
  },
  {
   "cell_type": "code",
   "execution_count": null,
   "id": "1333df57",
   "metadata": {},
   "outputs": [],
   "source": [
    "rr_score = best_score\n",
    "rr_score"
   ]
  },
  {
   "cell_type": "markdown",
   "id": "379ac9fe",
   "metadata": {},
   "source": [
    "### Checking $R^2$ Scores for Different Alphas"
   ]
  },
  {
   "cell_type": "code",
   "execution_count": 44,
   "id": "4c8c663d",
   "metadata": {},
   "outputs": [],
   "source": [
    "train_score = []\n",
    "test_score = []\n",
    "\n",
    "alphas = [0.1, 1, 10, 50, 100, 1000]\n",
    "\n",
    "for alpha in alphas:\n",
    "    # Build the model\n",
    "    reg = RidgeRegression(alpha = alpha)\n",
    "    reg.fit(X_train_scaled_df, y_train)\n",
    "    # Record Training Score\n",
    "    train_score.append(reg.score(X_train_scaled_df, y_train))\n",
    "    # Record Test Score\n",
    "    test_score.append(reg.score(X_test_scaled_df, y_test))"
   ]
  },
  {
   "cell_type": "code",
   "execution_count": 46,
   "id": "95f4c539",
   "metadata": {},
   "outputs": [
    {
     "data": {
      "image/png": "[encoded data removed]",
      "text/plain": [
       "<Figure size 720x360 with 1 Axes>"
      ]
     },
     "metadata": {
      "needs_background": "light"
     },
     "output_type": "display_data"
    }
   ],
   "source": [
    "fig, ax = plt.subplots(figsize=(10,5))\n",
    "ax.plot(alphas, train_score, label = 'Training Score')\n",
    "ax.plot(alphas, test_score, label = 'Test Score')\n",
    "ax.set(xlabel = 'Alpha',\n",
    "       ylabel = '$R^2$ Score',\n",
    "       title = 'Ridge Regression')\n",
    "ax.legend();"
   ]
  },
  {
   "cell_type": "markdown",
   "id": "352b0f0b",
   "metadata": {},
   "source": [
    "### Weights for the features"
   ]
  },
  {
   "cell_type": "code",
   "execution_count": 47,
   "id": "fadc7ae6",
   "metadata": {},
   "outputs": [
    {
     "data": {
      "text/plain": [
       "array([-25324.42780243, -25534.06514195,  14190.66364771,    101.4512398 ,\n",
       "        19226.34876661, -29295.57129859,  15752.986058  ,  68648.30275064,\n",
       "        12713.24660045, -37306.57258022,    718.45336713,   8970.6698088 ,\n",
       "        14904.20280385])"
      ]
     },
     "execution_count": 47,
     "metadata": {},
     "output_type": "execute_result"
    }
   ],
   "source": [
    "rr.coef_"
   ]
  },
  {
   "cell_type": "markdown",
   "id": "e3bc6a65",
   "metadata": {},
   "source": [
    "### Intercept"
   ]
  },
  {
   "cell_type": "code",
   "execution_count": 48,
   "id": "1e74b4bd",
   "metadata": {},
   "outputs": [
    {
     "data": {
      "text/plain": [
       "210017.82010236938"
      ]
     },
     "execution_count": 48,
     "metadata": {},
     "output_type": "execute_result"
    }
   ],
   "source": [
    "rr.intercept_"
   ]
  },
  {
   "cell_type": "markdown",
   "id": "dd8e257d",
   "metadata": {},
   "source": [
    "### Displaying the weights in an easily readable format"
   ]
  },
  {
   "cell_type": "code",
   "execution_count": 50,
   "id": "45a7aaac",
   "metadata": {},
   "outputs": [
    {
     "data": {
      "text/html": [
       "<div>\n",
       "<style scoped>\n",
       "    .dataframe tbody tr th:only-of-type {\n",
       "        vertical-align: middle;\n",
       "    }\n",
       "\n",
       "    .dataframe tbody tr th {\n",
       "        vertical-align: top;\n",
       "    }\n",
       "\n",
       "    .dataframe thead th {\n",
       "        text-align: right;\n",
       "    }\n",
       "</style>\n",
       "<table border=\"1\" class=\"dataframe\">\n",
       "  <thead>\n",
       "    <tr style=\"text-align: right;\">\n",
       "      <th></th>\n",
       "      <th>Weights</th>\n",
       "    </tr>\n",
       "  </thead>\n",
       "  <tbody>\n",
       "    <tr>\n",
       "      <th>longitude</th>\n",
       "      <td>-25324.427802</td>\n",
       "    </tr>\n",
       "    <tr>\n",
       "      <th>latitude</th>\n",
       "      <td>-25534.065142</td>\n",
       "    </tr>\n",
       "    <tr>\n",
       "      <th>housing_median_age</th>\n",
       "      <td>14190.663648</td>\n",
       "    </tr>\n",
       "    <tr>\n",
       "      <th>total_rooms</th>\n",
       "      <td>101.451240</td>\n",
       "    </tr>\n",
       "    <tr>\n",
       "      <th>total_bedrooms</th>\n",
       "      <td>19226.348767</td>\n",
       "    </tr>\n",
       "    <tr>\n",
       "      <th>population</th>\n",
       "      <td>-29295.571299</td>\n",
       "    </tr>\n",
       "    <tr>\n",
       "      <th>households</th>\n",
       "      <td>15752.986058</td>\n",
       "    </tr>\n",
       "    <tr>\n",
       "      <th>median_income</th>\n",
       "      <td>68648.302751</td>\n",
       "    </tr>\n",
       "    <tr>\n",
       "      <th>ocean_proximity_&lt;1H OCEAN</th>\n",
       "      <td>12713.246600</td>\n",
       "    </tr>\n",
       "    <tr>\n",
       "      <th>ocean_proximity_INLAND</th>\n",
       "      <td>-37306.572580</td>\n",
       "    </tr>\n",
       "    <tr>\n",
       "      <th>ocean_proximity_ISLAND</th>\n",
       "      <td>718.453367</td>\n",
       "    </tr>\n",
       "    <tr>\n",
       "      <th>ocean_proximity_NEAR BAY</th>\n",
       "      <td>8970.669809</td>\n",
       "    </tr>\n",
       "    <tr>\n",
       "      <th>ocean_proximity_NEAR OCEAN</th>\n",
       "      <td>14904.202804</td>\n",
       "    </tr>\n",
       "  </tbody>\n",
       "</table>\n",
       "</div>"
      ],
      "text/plain": [
       "                                 Weights\n",
       "longitude                  -25324.427802\n",
       "latitude                   -25534.065142\n",
       "housing_median_age          14190.663648\n",
       "total_rooms                   101.451240\n",
       "total_bedrooms              19226.348767\n",
       "population                 -29295.571299\n",
       "households                  15752.986058\n",
       "median_income               68648.302751\n",
       "ocean_proximity_<1H OCEAN   12713.246600\n",
       "ocean_proximity_INLAND     -37306.572580\n",
       "ocean_proximity_ISLAND        718.453367\n",
       "ocean_proximity_NEAR BAY     8970.669809\n",
       "ocean_proximity_NEAR OCEAN  14904.202804"
      ]
     },
     "execution_count": 50,
     "metadata": {},
     "output_type": "execute_result"
    }
   ],
   "source": [
    "df = pd.DataFrame(rr.coef_, X_test.columns, columns=['Weights'])\n",
    "df"
   ]
  },
  {
   "cell_type": "markdown",
   "id": "dadaa84c",
   "metadata": {},
   "source": [
    "<a id='kridge'></a>\n",
    "## Using Kernelized Ridge Regression"
   ]
  },
  {
   "cell_type": "code",
   "execution_count": 51,
   "id": "c8ee2107",
   "metadata": {},
   "outputs": [],
   "source": [
    "from KernelizedRR import KernelizedRidgeRegression"
   ]
  },
  {
   "cell_type": "markdown",
   "id": "fc55d5f1",
   "metadata": {},
   "source": [
    "### Linear Kernel"
   ]
  },
  {
   "cell_type": "code",
   "execution_count": 52,
   "id": "d88ca65f",
   "metadata": {},
   "outputs": [],
   "source": [
    "krr_linear = KernelizedRidgeRegression(kernel='linear', alpha = best_alpha)"
   ]
  },
  {
   "cell_type": "code",
   "execution_count": 53,
   "id": "3f18d663",
   "metadata": {},
   "outputs": [],
   "source": [
    "krr_linear.fit(X_train_scaled_df, y_train)"
   ]
  },
  {
   "cell_type": "code",
   "execution_count": 54,
   "id": "5271b517",
   "metadata": {},
   "outputs": [
    {
     "data": {
      "text/plain": [
       "0.6541877462647631"
      ]
     },
     "execution_count": 54,
     "metadata": {},
     "output_type": "execute_result"
    }
   ],
   "source": [
    "krr_linear_score = krr_linear.score(X_test_scaled_df, y_test)\n",
    "krr_linear_score"
   ]
  },
  {
   "cell_type": "markdown",
   "id": "700f0b86",
   "metadata": {},
   "source": [
    "### Polynomial Kernel"
   ]
  },
  {
   "cell_type": "code",
   "execution_count": 55,
   "id": "667d86fb",
   "metadata": {},
   "outputs": [
    {
     "name": "stdout",
     "output_type": "stream",
     "text": [
      "That took 29.0 minute(s).\n",
      "Best Degree: 4\n",
      "Best Coef0: 2\n",
      "Best Score: 0.7539057131726862\n"
     ]
    }
   ],
   "source": [
    "best_degree, best_coef, best_score = 3, 1, 0.0\n",
    "start = time.time()\n",
    "for d in [2, 3, 4, 5, 6]:\n",
    "    for c in [1, 2, 5, 10, 15]:\n",
    "        krr = KernelizedRidgeRegression(kernel = 'polynomial', degree=d, coef0=c)\n",
    "        krr.fit(X_train_scaled_df, y_train)\n",
    "        current_score = krr.score(X_test_scaled_df, y_test)\n",
    "        if current_score > best_score:\n",
    "            best_degree = d\n",
    "            best_coef = c\n",
    "            best_score = current_score\n",
    "            \n",
    "print(f'That took {np.round((time.time() - start)/60)} minute(s).')\n",
    "\n",
    "print(f'Best Degree: {best_degree}')\n",
    "print(f'Best Coef0: {best_coef}')\n",
    "print(f'Best Score: {best_score}')"
   ]
  },
  {
   "cell_type": "code",
   "execution_count": 56,
   "id": "53a83c89",
   "metadata": {},
   "outputs": [
    {
     "data": {
      "text/plain": [
       "0.7539057131726862"
      ]
     },
     "execution_count": 56,
     "metadata": {},
     "output_type": "execute_result"
    }
   ],
   "source": [
    "krr_poly_score = best_score\n",
    "krr_poly_score"
   ]
  },
  {
   "cell_type": "markdown",
   "id": "daeaee16",
   "metadata": {},
   "source": [
    "### Radial Basis Kernel"
   ]
  },
  {
   "cell_type": "code",
   "execution_count": 57,
   "id": "b35e4db3",
   "metadata": {},
   "outputs": [],
   "source": [
    "krr_rbf = KernelizedRidgeRegression(kernel='rbf')"
   ]
  },
  {
   "cell_type": "code",
   "execution_count": 58,
   "id": "a2abb012",
   "metadata": {},
   "outputs": [],
   "source": [
    "krr_rbf.fit(X_train_scaled_df, y_train)"
   ]
  },
  {
   "cell_type": "code",
   "execution_count": 59,
   "id": "770741f2",
   "metadata": {},
   "outputs": [
    {
     "data": {
      "text/plain": [
       "0.7534629840467388"
      ]
     },
     "execution_count": 59,
     "metadata": {},
     "output_type": "execute_result"
    }
   ],
   "source": [
    "krr_rbf_score = krr_rbf.score(X_test_scaled_df, y_test)\n",
    "krr_rbf_score"
   ]
  },
  {
   "cell_type": "markdown",
   "id": "5654242a",
   "metadata": {},
   "source": [
    "<a id='compare'></a>\n",
    "## Comparing Our Models"
   ]
  },
  {
   "cell_type": "code",
   "execution_count": 37,
   "id": "a5607955",
   "metadata": {},
   "outputs": [],
   "source": [
    "scores = [knn_score, rf_score, rr_score, krr_linear_score, krr_poly_score, krr_rbf_score]\n",
    "score_labels = ['KNN', 'Random Forest', 'Ridge', 'Linear Kernel', 'Polynomial Kernel', 'Radial Kernel']"
   ]
  },
  {
   "cell_type": "code",
   "execution_count": 38,
   "id": "993f1253",
   "metadata": {},
   "outputs": [],
   "source": [
    "# Storing the sort indices \n",
    "sort_indices = np.argsort(scores)"
   ]
  },
  {
   "cell_type": "code",
   "execution_count": 39,
   "id": "b65cb69f",
   "metadata": {},
   "outputs": [],
   "source": [
    "# Sorting the scores array\n",
    "scores = np.sort(scores)"
   ]
  },
  {
   "cell_type": "code",
   "execution_count": 40,
   "id": "a46e5f3c",
   "metadata": {},
   "outputs": [],
   "source": [
    "# Sorting the array of labels according to the sort indices for the scores array\n",
    "score_labels = np.array(score_labels)[sort_indices]"
   ]
  },
  {
   "cell_type": "code",
   "execution_count": 41,
   "id": "cc8ce366",
   "metadata": {},
   "outputs": [],
   "source": [
    "# Array of hexa codes for the bar colors\n",
    "bar_colors = ['#edf8e9','#c7e9c0','#a1d99b','#74c476','#31a354','#006d2c']"
   ]
  },
  {
   "cell_type": "code",
   "execution_count": 42,
   "id": "e2b181c1",
   "metadata": {},
   "outputs": [
    {
     "data": {
      "image/png": "[encoded data removed]",
      "text/plain": [
       "<Figure size 720x540 with 1 Axes>"
      ]
     },
     "metadata": {
      "needs_background": "light"
     },
     "output_type": "display_data"
    }
   ],
   "source": [
    "# Plotting R2 Scores for our models\n",
    "fig, ax = plt.subplots(figsize=(10,7.5))\n",
    "bars = ax.barh(score_labels, scores, color = bar_colors);\n",
    "ax.bar_label(bars, fmt='%.4f', padding = 5);\n",
    "ax.set(xlim = (0,1),\n",
    "       xlabel ='$R^2$ Score',\n",
    "       title = 'California Dataset: $R^2$ Scores for Our Models');"
   ]
  },
  {
   "cell_type": "markdown",
   "id": "eee2a51f",
   "metadata": {},
   "source": [
    "<a id='online'></a>\n",
    "## Online Prediction"
   ]
  },
  {
   "cell_type": "code",
   "execution_count": 69,
   "id": "a57cf198",
   "metadata": {},
   "outputs": [],
   "source": [
    "from OnlineLR import OnlineLinearRegression"
   ]
  },
  {
   "cell_type": "code",
   "execution_count": 71,
   "id": "91117eb6",
   "metadata": {},
   "outputs": [],
   "source": [
    "# index upto which we want to fit our scaler\n",
    "n = X_california.columns.get_loc('median_income') + 1"
   ]
  },
  {
   "cell_type": "code",
   "execution_count": 72,
   "id": "ff238cd7",
   "metadata": {},
   "outputs": [],
   "source": [
    "olr = OnlineLinearRegression(n_features = X_california.shape[1], scale_index = n)\n",
    "y_preds = []\n",
    "T = X_california.shape[0]"
   ]
  },
  {
   "cell_type": "code",
   "execution_count": 73,
   "id": "d522449c",
   "metadata": {},
   "outputs": [],
   "source": [
    "for t in range(X_california.shape[0]):\n",
    "    # Observe the sample at time t and make a prediction\n",
    "    prediction = olr.predict(X_california.iloc[t])\n",
    "    # Store the prediction that we have made\n",
    "    y_preds.append(prediction)\n",
    "    # Calculate Loss and Update Weights\n",
    "    olr.update_weights(y_california.iloc[t], prediction)"
   ]
  },
  {
   "cell_type": "code",
   "execution_count": 74,
   "id": "b694f893",
   "metadata": {},
   "outputs": [
    {
     "data": {
      "image/png": "[encoded data removed]",
      "text/plain": [
       "<Figure size 1080x360 with 1 Axes>"
      ]
     },
     "metadata": {
      "needs_background": "light"
     },
     "output_type": "display_data"
    }
   ],
   "source": [
    "fig, ax = plt.subplots(figsize=(15,5))\n",
    "ax.plot(olr.losses)\n",
    "ax.set(xlabel = 'Time',\n",
    "       ylabel = 'Loss',\n",
    "       title = 'California Dataset: Online Prediction');"
   ]
  },
  {
   "cell_type": "code",
   "execution_count": 75,
   "id": "57c2ded4",
   "metadata": {},
   "outputs": [
    {
     "data": {
      "text/plain": [
       "[<matplotlib.lines.Line2D at 0x239e02c9880>]"
      ]
     },
     "execution_count": 75,
     "metadata": {},
     "output_type": "execute_result"
    },
    {
     "data": {
      "image/png": "[encoded data removed]",
      "text/plain": [
       "<Figure size 432x288 with 1 Axes>"
      ]
     },
     "metadata": {
      "needs_background": "light"
     },
     "output_type": "display_data"
    }
   ],
   "source": [
    "plt.plot(olr.losses)"
   ]
  },
  {
   "cell_type": "markdown",
   "id": "130aac45",
   "metadata": {},
   "source": [
    "### Cumulative Loss"
   ]
  },
  {
   "cell_type": "code",
   "execution_count": 76,
   "id": "04f275a3",
   "metadata": {},
   "outputs": [
    {
     "data": {
      "text/plain": [
       "106900299526861.34"
      ]
     },
     "execution_count": 76,
     "metadata": {},
     "output_type": "execute_result"
    }
   ],
   "source": [
    "olr.cumulative_loss_"
   ]
  }
 ],
 "metadata": {
  "kernelspec": {
   "display_name": "Python 3 (ipykernel)",
   "language": "python",
   "name": "python3"
  },
  "language_info": {
   "codemirror_mode": {
    "name": "ipython",
    "version": 3
   },
   "file_extension": ".py",
   "mimetype": "text/x-python",
   "name": "python",
   "nbconvert_exporter": "python",
   "pygments_lexer": "ipython3",
   "version": "3.9.7"
  }
 },
 "nbformat": 4,
 "nbformat_minor": 5
}
