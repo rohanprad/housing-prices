{
 "cells": [
  {
   "cell_type": "markdown",
   "id": "26763ccf",
   "metadata": {},
   "source": [
    "## Quick Links\n",
    "* [Data Preprocessing](#data-preprocess)\n",
    "* [Training and Test Sets](#train-test)\n",
    "* [Feature Scaling](#feature-scaling)\n",
    "* [K Nearest Neighbors Regression](#knn)\n",
    "* [Random Forest Regression](#rfr)\n",
    "* [Ridge Regression](#ridge)\n",
    "* [Kernelized Ridge Regression](#kridge)\n",
    "* [Comparing Our Models](#compare)\n",
    "* [On-line Prediction](#online)"
   ]
  },
  {
   "cell_type": "markdown",
   "id": "3056277c",
   "metadata": {},
   "source": [
    "## Necessary Imports"
   ]
  },
  {
   "cell_type": "code",
   "execution_count": 1,
   "id": "7537c7a4",
   "metadata": {},
   "outputs": [],
   "source": [
    "%matplotlib inline \n",
    "import numpy as np\n",
    "import pandas as pd\n",
    "import matplotlib.pyplot as plt\n",
    "import seaborn as sns\n",
    "import time"
   ]
  },
  {
   "cell_type": "markdown",
   "id": "7cb27d16",
   "metadata": {},
   "source": [
    "## Loading the Dataset"
   ]
  },
  {
   "cell_type": "code",
   "execution_count": 2,
   "id": "2bf1ff94",
   "metadata": {},
   "outputs": [],
   "source": [
    "feature_names = ['CRIM', 'ZN', 'INDUS', 'CHAS', 'NOX', 'RM', 'AGE', 'DIS', 'RAD', 'TAX', 'PTRATIO', 'B', 'LSTAT', 'MEDV']"
   ]
  },
  {
   "cell_type": "code",
   "execution_count": 3,
   "id": "0a23e855",
   "metadata": {},
   "outputs": [],
   "source": [
    "boston = pd.read_csv('./Datasets/Boston Housing Dataset/housing.csv', header = None, delimiter = r'\\s+', names = feature_names)"
   ]
  },
  {
   "cell_type": "markdown",
   "id": "fca30ee9",
   "metadata": {},
   "source": [
    "## Shape of the Dataset"
   ]
  },
  {
   "cell_type": "code",
   "execution_count": 4,
   "id": "24f58881",
   "metadata": {},
   "outputs": [
    {
     "data": {
      "text/plain": [
       "(506, 14)"
      ]
     },
     "execution_count": 4,
     "metadata": {},
     "output_type": "execute_result"
    }
   ],
   "source": [
    "boston.shape"
   ]
  },
  {
   "cell_type": "markdown",
   "id": "68500663",
   "metadata": {},
   "source": [
    "## Checking Stats of the Dataset"
   ]
  },
  {
   "cell_type": "code",
   "execution_count": 5,
   "id": "4e045124",
   "metadata": {},
   "outputs": [
    {
     "data": {
      "text/html": [
       "<div>\n",
       "<style scoped>\n",
       "    .dataframe tbody tr th:only-of-type {\n",
       "        vertical-align: middle;\n",
       "    }\n",
       "\n",
       "    .dataframe tbody tr th {\n",
       "        vertical-align: top;\n",
       "    }\n",
       "\n",
       "    .dataframe thead th {\n",
       "        text-align: right;\n",
       "    }\n",
       "</style>\n",
       "<table border=\"1\" class=\"dataframe\">\n",
       "  <thead>\n",
       "    <tr style=\"text-align: right;\">\n",
       "      <th></th>\n",
       "      <th>CRIM</th>\n",
       "      <th>ZN</th>\n",
       "      <th>INDUS</th>\n",
       "      <th>CHAS</th>\n",
       "      <th>NOX</th>\n",
       "      <th>RM</th>\n",
       "      <th>AGE</th>\n",
       "      <th>DIS</th>\n",
       "      <th>RAD</th>\n",
       "      <th>TAX</th>\n",
       "      <th>PTRATIO</th>\n",
       "      <th>B</th>\n",
       "      <th>LSTAT</th>\n",
       "      <th>MEDV</th>\n",
       "    </tr>\n",
       "  </thead>\n",
       "  <tbody>\n",
       "    <tr>\n",
       "      <th>count</th>\n",
       "      <td>506.000000</td>\n",
       "      <td>506.000000</td>\n",
       "      <td>506.000000</td>\n",
       "      <td>506.000000</td>\n",
       "      <td>506.000000</td>\n",
       "      <td>506.000000</td>\n",
       "      <td>506.000000</td>\n",
       "      <td>506.000000</td>\n",
       "      <td>506.000000</td>\n",
       "      <td>506.000000</td>\n",
       "      <td>506.000000</td>\n",
       "      <td>506.000000</td>\n",
       "      <td>506.000000</td>\n",
       "      <td>506.000000</td>\n",
       "    </tr>\n",
       "    <tr>\n",
       "      <th>mean</th>\n",
       "      <td>3.613524</td>\n",
       "      <td>11.363636</td>\n",
       "      <td>11.136779</td>\n",
       "      <td>0.069170</td>\n",
       "      <td>0.554695</td>\n",
       "      <td>6.284634</td>\n",
       "      <td>68.574901</td>\n",
       "      <td>3.795043</td>\n",
       "      <td>9.549407</td>\n",
       "      <td>408.237154</td>\n",
       "      <td>18.455534</td>\n",
       "      <td>356.674032</td>\n",
       "      <td>12.653063</td>\n",
       "      <td>22.532806</td>\n",
       "    </tr>\n",
       "    <tr>\n",
       "      <th>std</th>\n",
       "      <td>8.601545</td>\n",
       "      <td>23.322453</td>\n",
       "      <td>6.860353</td>\n",
       "      <td>0.253994</td>\n",
       "      <td>0.115878</td>\n",
       "      <td>0.702617</td>\n",
       "      <td>28.148861</td>\n",
       "      <td>2.105710</td>\n",
       "      <td>8.707259</td>\n",
       "      <td>168.537116</td>\n",
       "      <td>2.164946</td>\n",
       "      <td>91.294864</td>\n",
       "      <td>7.141062</td>\n",
       "      <td>9.197104</td>\n",
       "    </tr>\n",
       "    <tr>\n",
       "      <th>min</th>\n",
       "      <td>0.006320</td>\n",
       "      <td>0.000000</td>\n",
       "      <td>0.460000</td>\n",
       "      <td>0.000000</td>\n",
       "      <td>0.385000</td>\n",
       "      <td>3.561000</td>\n",
       "      <td>2.900000</td>\n",
       "      <td>1.129600</td>\n",
       "      <td>1.000000</td>\n",
       "      <td>187.000000</td>\n",
       "      <td>12.600000</td>\n",
       "      <td>0.320000</td>\n",
       "      <td>1.730000</td>\n",
       "      <td>5.000000</td>\n",
       "    </tr>\n",
       "    <tr>\n",
       "      <th>25%</th>\n",
       "      <td>0.082045</td>\n",
       "      <td>0.000000</td>\n",
       "      <td>5.190000</td>\n",
       "      <td>0.000000</td>\n",
       "      <td>0.449000</td>\n",
       "      <td>5.885500</td>\n",
       "      <td>45.025000</td>\n",
       "      <td>2.100175</td>\n",
       "      <td>4.000000</td>\n",
       "      <td>279.000000</td>\n",
       "      <td>17.400000</td>\n",
       "      <td>375.377500</td>\n",
       "      <td>6.950000</td>\n",
       "      <td>17.025000</td>\n",
       "    </tr>\n",
       "    <tr>\n",
       "      <th>50%</th>\n",
       "      <td>0.256510</td>\n",
       "      <td>0.000000</td>\n",
       "      <td>9.690000</td>\n",
       "      <td>0.000000</td>\n",
       "      <td>0.538000</td>\n",
       "      <td>6.208500</td>\n",
       "      <td>77.500000</td>\n",
       "      <td>3.207450</td>\n",
       "      <td>5.000000</td>\n",
       "      <td>330.000000</td>\n",
       "      <td>19.050000</td>\n",
       "      <td>391.440000</td>\n",
       "      <td>11.360000</td>\n",
       "      <td>21.200000</td>\n",
       "    </tr>\n",
       "    <tr>\n",
       "      <th>75%</th>\n",
       "      <td>3.677083</td>\n",
       "      <td>12.500000</td>\n",
       "      <td>18.100000</td>\n",
       "      <td>0.000000</td>\n",
       "      <td>0.624000</td>\n",
       "      <td>6.623500</td>\n",
       "      <td>94.075000</td>\n",
       "      <td>5.188425</td>\n",
       "      <td>24.000000</td>\n",
       "      <td>666.000000</td>\n",
       "      <td>20.200000</td>\n",
       "      <td>396.225000</td>\n",
       "      <td>16.955000</td>\n",
       "      <td>25.000000</td>\n",
       "    </tr>\n",
       "    <tr>\n",
       "      <th>max</th>\n",
       "      <td>88.976200</td>\n",
       "      <td>100.000000</td>\n",
       "      <td>27.740000</td>\n",
       "      <td>1.000000</td>\n",
       "      <td>0.871000</td>\n",
       "      <td>8.780000</td>\n",
       "      <td>100.000000</td>\n",
       "      <td>12.126500</td>\n",
       "      <td>24.000000</td>\n",
       "      <td>711.000000</td>\n",
       "      <td>22.000000</td>\n",
       "      <td>396.900000</td>\n",
       "      <td>37.970000</td>\n",
       "      <td>50.000000</td>\n",
       "    </tr>\n",
       "  </tbody>\n",
       "</table>\n",
       "</div>"
      ],
      "text/plain": [
       "             CRIM          ZN       INDUS        CHAS         NOX          RM  \\\n",
       "count  506.000000  506.000000  506.000000  506.000000  506.000000  506.000000   \n",
       "mean     3.613524   11.363636   11.136779    0.069170    0.554695    6.284634   \n",
       "std      8.601545   23.322453    6.860353    0.253994    0.115878    0.702617   \n",
       "min      0.006320    0.000000    0.460000    0.000000    0.385000    3.561000   \n",
       "25%      0.082045    0.000000    5.190000    0.000000    0.449000    5.885500   \n",
       "50%      0.256510    0.000000    9.690000    0.000000    0.538000    6.208500   \n",
       "75%      3.677083   12.500000   18.100000    0.000000    0.624000    6.623500   \n",
       "max     88.976200  100.000000   27.740000    1.000000    0.871000    8.780000   \n",
       "\n",
       "              AGE         DIS         RAD         TAX     PTRATIO           B  \\\n",
       "count  506.000000  506.000000  506.000000  506.000000  506.000000  506.000000   \n",
       "mean    68.574901    3.795043    9.549407  408.237154   18.455534  356.674032   \n",
       "std     28.148861    2.105710    8.707259  168.537116    2.164946   91.294864   \n",
       "min      2.900000    1.129600    1.000000  187.000000   12.600000    0.320000   \n",
       "25%     45.025000    2.100175    4.000000  279.000000   17.400000  375.377500   \n",
       "50%     77.500000    3.207450    5.000000  330.000000   19.050000  391.440000   \n",
       "75%     94.075000    5.188425   24.000000  666.000000   20.200000  396.225000   \n",
       "max    100.000000   12.126500   24.000000  711.000000   22.000000  396.900000   \n",
       "\n",
       "            LSTAT        MEDV  \n",
       "count  506.000000  506.000000  \n",
       "mean    12.653063   22.532806  \n",
       "std      7.141062    9.197104  \n",
       "min      1.730000    5.000000  \n",
       "25%      6.950000   17.025000  \n",
       "50%     11.360000   21.200000  \n",
       "75%     16.955000   25.000000  \n",
       "max     37.970000   50.000000  "
      ]
     },
     "execution_count": 5,
     "metadata": {},
     "output_type": "execute_result"
    }
   ],
   "source": [
    "boston.describe()"
   ]
  },
  {
   "cell_type": "markdown",
   "id": "62a4a2c9",
   "metadata": {},
   "source": [
    "<a id='data-preprocess'></a>\n",
    "## Checking for missing values "
   ]
  },
  {
   "cell_type": "code",
   "execution_count": 6,
   "id": "1c0854cb",
   "metadata": {},
   "outputs": [
    {
     "data": {
      "text/plain": [
       "CRIM       0\n",
       "ZN         0\n",
       "INDUS      0\n",
       "CHAS       0\n",
       "NOX        0\n",
       "RM         0\n",
       "AGE        0\n",
       "DIS        0\n",
       "RAD        0\n",
       "TAX        0\n",
       "PTRATIO    0\n",
       "B          0\n",
       "LSTAT      0\n",
       "MEDV       0\n",
       "dtype: int64"
      ]
     },
     "execution_count": 6,
     "metadata": {},
     "output_type": "execute_result"
    }
   ],
   "source": [
    "boston.isnull().sum() # Dataset has no missing values"
   ]
  },
  {
   "cell_type": "code",
   "execution_count": 7,
   "id": "92dd5768",
   "metadata": {},
   "outputs": [
    {
     "name": "stdout",
     "output_type": "stream",
     "text": [
      "<class 'pandas.core.frame.DataFrame'>\n",
      "RangeIndex: 506 entries, 0 to 505\n",
      "Data columns (total 14 columns):\n",
      " #   Column   Non-Null Count  Dtype  \n",
      "---  ------   --------------  -----  \n",
      " 0   CRIM     506 non-null    float64\n",
      " 1   ZN       506 non-null    float64\n",
      " 2   INDUS    506 non-null    float64\n",
      " 3   CHAS     506 non-null    int64  \n",
      " 4   NOX      506 non-null    float64\n",
      " 5   RM       506 non-null    float64\n",
      " 6   AGE      506 non-null    float64\n",
      " 7   DIS      506 non-null    float64\n",
      " 8   RAD      506 non-null    int64  \n",
      " 9   TAX      506 non-null    float64\n",
      " 10  PTRATIO  506 non-null    float64\n",
      " 11  B        506 non-null    float64\n",
      " 12  LSTAT    506 non-null    float64\n",
      " 13  MEDV     506 non-null    float64\n",
      "dtypes: float64(12), int64(2)\n",
      "memory usage: 55.5 KB\n"
     ]
    }
   ],
   "source": [
    "boston.info()"
   ]
  },
  {
   "cell_type": "markdown",
   "id": "b8b9c61a",
   "metadata": {},
   "source": [
    "## Converting the Dtype of all columns to $\\verb|float64|$"
   ]
  },
  {
   "cell_type": "code",
   "execution_count": 8,
   "id": "a1c8ef85",
   "metadata": {},
   "outputs": [],
   "source": [
    "boston = boston.astype('float64')"
   ]
  },
  {
   "cell_type": "code",
   "execution_count": 9,
   "id": "3bb03f34",
   "metadata": {},
   "outputs": [
    {
     "name": "stdout",
     "output_type": "stream",
     "text": [
      "<class 'pandas.core.frame.DataFrame'>\n",
      "RangeIndex: 506 entries, 0 to 505\n",
      "Data columns (total 14 columns):\n",
      " #   Column   Non-Null Count  Dtype  \n",
      "---  ------   --------------  -----  \n",
      " 0   CRIM     506 non-null    float64\n",
      " 1   ZN       506 non-null    float64\n",
      " 2   INDUS    506 non-null    float64\n",
      " 3   CHAS     506 non-null    float64\n",
      " 4   NOX      506 non-null    float64\n",
      " 5   RM       506 non-null    float64\n",
      " 6   AGE      506 non-null    float64\n",
      " 7   DIS      506 non-null    float64\n",
      " 8   RAD      506 non-null    float64\n",
      " 9   TAX      506 non-null    float64\n",
      " 10  PTRATIO  506 non-null    float64\n",
      " 11  B        506 non-null    float64\n",
      " 12  LSTAT    506 non-null    float64\n",
      " 13  MEDV     506 non-null    float64\n",
      "dtypes: float64(14)\n",
      "memory usage: 55.5 KB\n"
     ]
    }
   ],
   "source": [
    "boston.info()"
   ]
  },
  {
   "cell_type": "markdown",
   "id": "8e85afdc",
   "metadata": {},
   "source": [
    "## First 5 Samples of the Dataset<a id = 'first'></a>"
   ]
  },
  {
   "cell_type": "code",
   "execution_count": 10,
   "id": "ee7f87d9",
   "metadata": {},
   "outputs": [
    {
     "data": {
      "text/html": [
       "<div>\n",
       "<style scoped>\n",
       "    .dataframe tbody tr th:only-of-type {\n",
       "        vertical-align: middle;\n",
       "    }\n",
       "\n",
       "    .dataframe tbody tr th {\n",
       "        vertical-align: top;\n",
       "    }\n",
       "\n",
       "    .dataframe thead th {\n",
       "        text-align: right;\n",
       "    }\n",
       "</style>\n",
       "<table border=\"1\" class=\"dataframe\">\n",
       "  <thead>\n",
       "    <tr style=\"text-align: right;\">\n",
       "      <th></th>\n",
       "      <th>CRIM</th>\n",
       "      <th>ZN</th>\n",
       "      <th>INDUS</th>\n",
       "      <th>CHAS</th>\n",
       "      <th>NOX</th>\n",
       "      <th>RM</th>\n",
       "      <th>AGE</th>\n",
       "      <th>DIS</th>\n",
       "      <th>RAD</th>\n",
       "      <th>TAX</th>\n",
       "      <th>PTRATIO</th>\n",
       "      <th>B</th>\n",
       "      <th>LSTAT</th>\n",
       "      <th>MEDV</th>\n",
       "    </tr>\n",
       "  </thead>\n",
       "  <tbody>\n",
       "    <tr>\n",
       "      <th>0</th>\n",
       "      <td>0.00632</td>\n",
       "      <td>18.0</td>\n",
       "      <td>2.31</td>\n",
       "      <td>0.0</td>\n",
       "      <td>0.538</td>\n",
       "      <td>6.575</td>\n",
       "      <td>65.2</td>\n",
       "      <td>4.0900</td>\n",
       "      <td>1.0</td>\n",
       "      <td>296.0</td>\n",
       "      <td>15.3</td>\n",
       "      <td>396.90</td>\n",
       "      <td>4.98</td>\n",
       "      <td>24.0</td>\n",
       "    </tr>\n",
       "    <tr>\n",
       "      <th>1</th>\n",
       "      <td>0.02731</td>\n",
       "      <td>0.0</td>\n",
       "      <td>7.07</td>\n",
       "      <td>0.0</td>\n",
       "      <td>0.469</td>\n",
       "      <td>6.421</td>\n",
       "      <td>78.9</td>\n",
       "      <td>4.9671</td>\n",
       "      <td>2.0</td>\n",
       "      <td>242.0</td>\n",
       "      <td>17.8</td>\n",
       "      <td>396.90</td>\n",
       "      <td>9.14</td>\n",
       "      <td>21.6</td>\n",
       "    </tr>\n",
       "    <tr>\n",
       "      <th>2</th>\n",
       "      <td>0.02729</td>\n",
       "      <td>0.0</td>\n",
       "      <td>7.07</td>\n",
       "      <td>0.0</td>\n",
       "      <td>0.469</td>\n",
       "      <td>7.185</td>\n",
       "      <td>61.1</td>\n",
       "      <td>4.9671</td>\n",
       "      <td>2.0</td>\n",
       "      <td>242.0</td>\n",
       "      <td>17.8</td>\n",
       "      <td>392.83</td>\n",
       "      <td>4.03</td>\n",
       "      <td>34.7</td>\n",
       "    </tr>\n",
       "    <tr>\n",
       "      <th>3</th>\n",
       "      <td>0.03237</td>\n",
       "      <td>0.0</td>\n",
       "      <td>2.18</td>\n",
       "      <td>0.0</td>\n",
       "      <td>0.458</td>\n",
       "      <td>6.998</td>\n",
       "      <td>45.8</td>\n",
       "      <td>6.0622</td>\n",
       "      <td>3.0</td>\n",
       "      <td>222.0</td>\n",
       "      <td>18.7</td>\n",
       "      <td>394.63</td>\n",
       "      <td>2.94</td>\n",
       "      <td>33.4</td>\n",
       "    </tr>\n",
       "    <tr>\n",
       "      <th>4</th>\n",
       "      <td>0.06905</td>\n",
       "      <td>0.0</td>\n",
       "      <td>2.18</td>\n",
       "      <td>0.0</td>\n",
       "      <td>0.458</td>\n",
       "      <td>7.147</td>\n",
       "      <td>54.2</td>\n",
       "      <td>6.0622</td>\n",
       "      <td>3.0</td>\n",
       "      <td>222.0</td>\n",
       "      <td>18.7</td>\n",
       "      <td>396.90</td>\n",
       "      <td>5.33</td>\n",
       "      <td>36.2</td>\n",
       "    </tr>\n",
       "  </tbody>\n",
       "</table>\n",
       "</div>"
      ],
      "text/plain": [
       "      CRIM    ZN  INDUS  CHAS    NOX     RM   AGE     DIS  RAD    TAX  \\\n",
       "0  0.00632  18.0   2.31   0.0  0.538  6.575  65.2  4.0900  1.0  296.0   \n",
       "1  0.02731   0.0   7.07   0.0  0.469  6.421  78.9  4.9671  2.0  242.0   \n",
       "2  0.02729   0.0   7.07   0.0  0.469  7.185  61.1  4.9671  2.0  242.0   \n",
       "3  0.03237   0.0   2.18   0.0  0.458  6.998  45.8  6.0622  3.0  222.0   \n",
       "4  0.06905   0.0   2.18   0.0  0.458  7.147  54.2  6.0622  3.0  222.0   \n",
       "\n",
       "   PTRATIO       B  LSTAT  MEDV  \n",
       "0     15.3  396.90   4.98  24.0  \n",
       "1     17.8  396.90   9.14  21.6  \n",
       "2     17.8  392.83   4.03  34.7  \n",
       "3     18.7  394.63   2.94  33.4  \n",
       "4     18.7  396.90   5.33  36.2  "
      ]
     },
     "execution_count": 10,
     "metadata": {},
     "output_type": "execute_result"
    }
   ],
   "source": [
    "boston.head()"
   ]
  },
  {
   "cell_type": "markdown",
   "id": "088eb19e",
   "metadata": {},
   "source": [
    "## Relationship between the Features and Label"
   ]
  },
  {
   "cell_type": "code",
   "execution_count": 11,
   "id": "42ac9e8f",
   "metadata": {},
   "outputs": [
    {
     "data": {
      "image/png": "[encoded data removed]",
      "text/plain": [
       "<Figure size 1080x720 with 2 Axes>"
      ]
     },
     "metadata": {
      "needs_background": "light"
     },
     "output_type": "display_data"
    }
   ],
   "source": [
    "fig, ax = plt.subplots(figsize = (15,10))\n",
    "ax = sns.heatmap(boston.corr(),annot = True);"
   ]
  },
  {
   "cell_type": "markdown",
   "id": "d392b96f",
   "metadata": {},
   "source": [
    "## Splitting the Data into Features (X) and Target (y)"
   ]
  },
  {
   "cell_type": "code",
   "execution_count": 12,
   "id": "0dff5b01",
   "metadata": {
    "scrolled": true
   },
   "outputs": [
    {
     "data": {
      "text/html": [
       "<div>\n",
       "<style scoped>\n",
       "    .dataframe tbody tr th:only-of-type {\n",
       "        vertical-align: middle;\n",
       "    }\n",
       "\n",
       "    .dataframe tbody tr th {\n",
       "        vertical-align: top;\n",
       "    }\n",
       "\n",
       "    .dataframe thead th {\n",
       "        text-align: right;\n",
       "    }\n",
       "</style>\n",
       "<table border=\"1\" class=\"dataframe\">\n",
       "  <thead>\n",
       "    <tr style=\"text-align: right;\">\n",
       "      <th></th>\n",
       "      <th>CRIM</th>\n",
       "      <th>ZN</th>\n",
       "      <th>INDUS</th>\n",
       "      <th>CHAS</th>\n",
       "      <th>NOX</th>\n",
       "      <th>RM</th>\n",
       "      <th>AGE</th>\n",
       "      <th>DIS</th>\n",
       "      <th>RAD</th>\n",
       "      <th>TAX</th>\n",
       "      <th>PTRATIO</th>\n",
       "      <th>B</th>\n",
       "      <th>LSTAT</th>\n",
       "    </tr>\n",
       "  </thead>\n",
       "  <tbody>\n",
       "    <tr>\n",
       "      <th>0</th>\n",
       "      <td>0.00632</td>\n",
       "      <td>18.0</td>\n",
       "      <td>2.31</td>\n",
       "      <td>0.0</td>\n",
       "      <td>0.538</td>\n",
       "      <td>6.575</td>\n",
       "      <td>65.2</td>\n",
       "      <td>4.0900</td>\n",
       "      <td>1.0</td>\n",
       "      <td>296.0</td>\n",
       "      <td>15.3</td>\n",
       "      <td>396.90</td>\n",
       "      <td>4.98</td>\n",
       "    </tr>\n",
       "    <tr>\n",
       "      <th>1</th>\n",
       "      <td>0.02731</td>\n",
       "      <td>0.0</td>\n",
       "      <td>7.07</td>\n",
       "      <td>0.0</td>\n",
       "      <td>0.469</td>\n",
       "      <td>6.421</td>\n",
       "      <td>78.9</td>\n",
       "      <td>4.9671</td>\n",
       "      <td>2.0</td>\n",
       "      <td>242.0</td>\n",
       "      <td>17.8</td>\n",
       "      <td>396.90</td>\n",
       "      <td>9.14</td>\n",
       "    </tr>\n",
       "    <tr>\n",
       "      <th>2</th>\n",
       "      <td>0.02729</td>\n",
       "      <td>0.0</td>\n",
       "      <td>7.07</td>\n",
       "      <td>0.0</td>\n",
       "      <td>0.469</td>\n",
       "      <td>7.185</td>\n",
       "      <td>61.1</td>\n",
       "      <td>4.9671</td>\n",
       "      <td>2.0</td>\n",
       "      <td>242.0</td>\n",
       "      <td>17.8</td>\n",
       "      <td>392.83</td>\n",
       "      <td>4.03</td>\n",
       "    </tr>\n",
       "    <tr>\n",
       "      <th>3</th>\n",
       "      <td>0.03237</td>\n",
       "      <td>0.0</td>\n",
       "      <td>2.18</td>\n",
       "      <td>0.0</td>\n",
       "      <td>0.458</td>\n",
       "      <td>6.998</td>\n",
       "      <td>45.8</td>\n",
       "      <td>6.0622</td>\n",
       "      <td>3.0</td>\n",
       "      <td>222.0</td>\n",
       "      <td>18.7</td>\n",
       "      <td>394.63</td>\n",
       "      <td>2.94</td>\n",
       "    </tr>\n",
       "    <tr>\n",
       "      <th>4</th>\n",
       "      <td>0.06905</td>\n",
       "      <td>0.0</td>\n",
       "      <td>2.18</td>\n",
       "      <td>0.0</td>\n",
       "      <td>0.458</td>\n",
       "      <td>7.147</td>\n",
       "      <td>54.2</td>\n",
       "      <td>6.0622</td>\n",
       "      <td>3.0</td>\n",
       "      <td>222.0</td>\n",
       "      <td>18.7</td>\n",
       "      <td>396.90</td>\n",
       "      <td>5.33</td>\n",
       "    </tr>\n",
       "  </tbody>\n",
       "</table>\n",
       "</div>"
      ],
      "text/plain": [
       "      CRIM    ZN  INDUS  CHAS    NOX     RM   AGE     DIS  RAD    TAX  \\\n",
       "0  0.00632  18.0   2.31   0.0  0.538  6.575  65.2  4.0900  1.0  296.0   \n",
       "1  0.02731   0.0   7.07   0.0  0.469  6.421  78.9  4.9671  2.0  242.0   \n",
       "2  0.02729   0.0   7.07   0.0  0.469  7.185  61.1  4.9671  2.0  242.0   \n",
       "3  0.03237   0.0   2.18   0.0  0.458  6.998  45.8  6.0622  3.0  222.0   \n",
       "4  0.06905   0.0   2.18   0.0  0.458  7.147  54.2  6.0622  3.0  222.0   \n",
       "\n",
       "   PTRATIO       B  LSTAT  \n",
       "0     15.3  396.90   4.98  \n",
       "1     17.8  396.90   9.14  \n",
       "2     17.8  392.83   4.03  \n",
       "3     18.7  394.63   2.94  \n",
       "4     18.7  396.90   5.33  "
      ]
     },
     "execution_count": 12,
     "metadata": {},
     "output_type": "execute_result"
    }
   ],
   "source": [
    "X_boston = boston.drop('MEDV', axis = 1)\n",
    "X_boston.head()"
   ]
  },
  {
   "cell_type": "code",
   "execution_count": 13,
   "id": "131c5546",
   "metadata": {},
   "outputs": [
    {
     "data": {
      "text/plain": [
       "0    24.0\n",
       "1    21.6\n",
       "2    34.7\n",
       "3    33.4\n",
       "4    36.2\n",
       "Name: MEDV, dtype: float64"
      ]
     },
     "execution_count": 13,
     "metadata": {},
     "output_type": "execute_result"
    }
   ],
   "source": [
    "y_boston = boston['MEDV']\n",
    "y_boston.head()"
   ]
  },
  {
   "cell_type": "markdown",
   "id": "79784b23",
   "metadata": {},
   "source": [
    "<a id='train-test'></a>\n",
    "## Splitting the Data into Training and Test Sets "
   ]
  },
  {
   "cell_type": "code",
   "execution_count": 14,
   "id": "1da7927e",
   "metadata": {},
   "outputs": [],
   "source": [
    "from sklearn.model_selection import train_test_split\n",
    "X_train, X_test, y_train, y_test = train_test_split(X_boston, y_boston, random_state = 42)"
   ]
  },
  {
   "cell_type": "markdown",
   "id": "6d4d4dec",
   "metadata": {},
   "source": [
    "<a id='feature-scaling'></a>\n",
    "## Normalizing the Data using StandardScaler "
   ]
  },
  {
   "cell_type": "code",
   "execution_count": 15,
   "id": "c3aaed28",
   "metadata": {},
   "outputs": [],
   "source": [
    "from sklearn.preprocessing import StandardScaler\n",
    "scaler = StandardScaler()\n",
    "X_train_scaled = scaler.fit_transform(X_train)\n",
    "X_test_scaled = scaler.transform(X_test)\n",
    "\n",
    "X_train_scaled_df = pd.DataFrame(X_train_scaled, columns = X_train.columns)\n",
    "X_test_scaled_df = pd.DataFrame(X_test_scaled, columns = X_test.columns)"
   ]
  },
  {
   "cell_type": "code",
   "execution_count": 16,
   "id": "228232ca",
   "metadata": {},
   "outputs": [
    {
     "data": {
      "text/html": [
       "<div>\n",
       "<style scoped>\n",
       "    .dataframe tbody tr th:only-of-type {\n",
       "        vertical-align: middle;\n",
       "    }\n",
       "\n",
       "    .dataframe tbody tr th {\n",
       "        vertical-align: top;\n",
       "    }\n",
       "\n",
       "    .dataframe thead th {\n",
       "        text-align: right;\n",
       "    }\n",
       "</style>\n",
       "<table border=\"1\" class=\"dataframe\">\n",
       "  <thead>\n",
       "    <tr style=\"text-align: right;\">\n",
       "      <th></th>\n",
       "      <th>CRIM</th>\n",
       "      <th>ZN</th>\n",
       "      <th>INDUS</th>\n",
       "      <th>CHAS</th>\n",
       "      <th>NOX</th>\n",
       "      <th>RM</th>\n",
       "      <th>AGE</th>\n",
       "      <th>DIS</th>\n",
       "      <th>RAD</th>\n",
       "      <th>TAX</th>\n",
       "      <th>PTRATIO</th>\n",
       "      <th>B</th>\n",
       "      <th>LSTAT</th>\n",
       "    </tr>\n",
       "  </thead>\n",
       "  <tbody>\n",
       "    <tr>\n",
       "      <th>0</th>\n",
       "      <td>-0.406795</td>\n",
       "      <td>-0.502812</td>\n",
       "      <td>-1.247076</td>\n",
       "      <td>-0.287849</td>\n",
       "      <td>-0.591174</td>\n",
       "      <td>1.156255</td>\n",
       "      <td>0.833235</td>\n",
       "      <td>-0.503753</td>\n",
       "      <td>-0.740571</td>\n",
       "      <td>-1.280208</td>\n",
       "      <td>-0.205157</td>\n",
       "      <td>0.404512</td>\n",
       "      <td>-1.077756</td>\n",
       "    </tr>\n",
       "    <tr>\n",
       "      <th>1</th>\n",
       "      <td>0.007992</td>\n",
       "      <td>-0.502812</td>\n",
       "      <td>1.218283</td>\n",
       "      <td>3.474042</td>\n",
       "      <td>2.628380</td>\n",
       "      <td>-0.238475</td>\n",
       "      <td>0.486246</td>\n",
       "      <td>-0.956440</td>\n",
       "      <td>-0.507741</td>\n",
       "      <td>-0.013937</td>\n",
       "      <td>-1.576252</td>\n",
       "      <td>-3.098037</td>\n",
       "      <td>0.351165</td>\n",
       "    </tr>\n",
       "    <tr>\n",
       "      <th>2</th>\n",
       "      <td>-0.413450</td>\n",
       "      <td>0.364381</td>\n",
       "      <td>-1.121792</td>\n",
       "      <td>-0.287849</td>\n",
       "      <td>-0.970291</td>\n",
       "      <td>2.080976</td>\n",
       "      <td>-0.167973</td>\n",
       "      <td>0.441388</td>\n",
       "      <td>-0.507741</td>\n",
       "      <td>-1.141522</td>\n",
       "      <td>-1.487795</td>\n",
       "      <td>0.326591</td>\n",
       "      <td>-1.226252</td>\n",
       "    </tr>\n",
       "    <tr>\n",
       "      <th>3</th>\n",
       "      <td>-0.371107</td>\n",
       "      <td>-0.502812</td>\n",
       "      <td>2.092391</td>\n",
       "      <td>-0.287849</td>\n",
       "      <td>0.190598</td>\n",
       "      <td>-0.987986</td>\n",
       "      <td>0.956127</td>\n",
       "      <td>-0.950895</td>\n",
       "      <td>-0.856986</td>\n",
       "      <td>-1.310358</td>\n",
       "      <td>0.369819</td>\n",
       "      <td>0.005983</td>\n",
       "      <td>2.065870</td>\n",
       "    </tr>\n",
       "    <tr>\n",
       "      <th>4</th>\n",
       "      <td>-0.409661</td>\n",
       "      <td>-0.502812</td>\n",
       "      <td>-1.134753</td>\n",
       "      <td>-0.287849</td>\n",
       "      <td>-0.826546</td>\n",
       "      <td>0.013216</td>\n",
       "      <td>-1.877617</td>\n",
       "      <td>0.687804</td>\n",
       "      <td>-0.624156</td>\n",
       "      <td>0.148869</td>\n",
       "      <td>-0.603217</td>\n",
       "      <td>0.188141</td>\n",
       "      <td>-0.724729</td>\n",
       "    </tr>\n",
       "    <tr>\n",
       "      <th>...</th>\n",
       "      <td>...</td>\n",
       "      <td>...</td>\n",
       "      <td>...</td>\n",
       "      <td>...</td>\n",
       "      <td>...</td>\n",
       "      <td>...</td>\n",
       "      <td>...</td>\n",
       "      <td>...</td>\n",
       "      <td>...</td>\n",
       "      <td>...</td>\n",
       "      <td>...</td>\n",
       "      <td>...</td>\n",
       "      <td>...</td>\n",
       "    </tr>\n",
       "    <tr>\n",
       "      <th>374</th>\n",
       "      <td>-0.397140</td>\n",
       "      <td>-0.502812</td>\n",
       "      <td>-0.368648</td>\n",
       "      <td>-0.287849</td>\n",
       "      <td>-0.322177</td>\n",
       "      <td>-0.677892</td>\n",
       "      <td>0.822392</td>\n",
       "      <td>-0.735808</td>\n",
       "      <td>-0.507741</td>\n",
       "      <td>-0.128504</td>\n",
       "      <td>1.165939</td>\n",
       "      <td>0.422247</td>\n",
       "      <td>0.861093</td>\n",
       "    </tr>\n",
       "    <tr>\n",
       "      <th>375</th>\n",
       "      <td>-0.381729</td>\n",
       "      <td>0.364381</td>\n",
       "      <td>-0.599055</td>\n",
       "      <td>-0.287849</td>\n",
       "      <td>-0.792921</td>\n",
       "      <td>-0.650081</td>\n",
       "      <td>-0.977614</td>\n",
       "      <td>0.315455</td>\n",
       "      <td>-0.740571</td>\n",
       "      <td>-1.099312</td>\n",
       "      <td>0.148674</td>\n",
       "      <td>0.341924</td>\n",
       "      <td>0.068182</td>\n",
       "    </tr>\n",
       "    <tr>\n",
       "      <th>376</th>\n",
       "      <td>-0.415951</td>\n",
       "      <td>2.965961</td>\n",
       "      <td>-1.311878</td>\n",
       "      <td>-0.287849</td>\n",
       "      <td>-1.036700</td>\n",
       "      <td>0.433164</td>\n",
       "      <td>-1.425808</td>\n",
       "      <td>2.171042</td>\n",
       "      <td>-0.624156</td>\n",
       "      <td>-0.755610</td>\n",
       "      <td>-0.558988</td>\n",
       "      <td>0.368126</td>\n",
       "      <td>-0.913851</td>\n",
       "    </tr>\n",
       "    <tr>\n",
       "      <th>377</th>\n",
       "      <td>0.926381</td>\n",
       "      <td>-0.502812</td>\n",
       "      <td>1.005156</td>\n",
       "      <td>-0.287849</td>\n",
       "      <td>1.527175</td>\n",
       "      <td>0.424821</td>\n",
       "      <td>0.919983</td>\n",
       "      <td>-0.776711</td>\n",
       "      <td>1.704142</td>\n",
       "      <td>1.571917</td>\n",
       "      <td>0.856337</td>\n",
       "      <td>-2.848141</td>\n",
       "      <td>1.506909</td>\n",
       "    </tr>\n",
       "    <tr>\n",
       "      <th>378</th>\n",
       "      <td>-0.390207</td>\n",
       "      <td>-0.502812</td>\n",
       "      <td>-0.368648</td>\n",
       "      <td>-0.287849</td>\n",
       "      <td>-0.322177</td>\n",
       "      <td>0.113336</td>\n",
       "      <td>0.587451</td>\n",
       "      <td>-0.497070</td>\n",
       "      <td>-0.507741</td>\n",
       "      <td>-0.128504</td>\n",
       "      <td>1.165939</td>\n",
       "      <td>-3.294956</td>\n",
       "      <td>-0.263832</td>\n",
       "    </tr>\n",
       "  </tbody>\n",
       "</table>\n",
       "<p>379 rows × 13 columns</p>\n",
       "</div>"
      ],
      "text/plain": [
       "         CRIM        ZN     INDUS      CHAS       NOX        RM       AGE  \\\n",
       "0   -0.406795 -0.502812 -1.247076 -0.287849 -0.591174  1.156255  0.833235   \n",
       "1    0.007992 -0.502812  1.218283  3.474042  2.628380 -0.238475  0.486246   \n",
       "2   -0.413450  0.364381 -1.121792 -0.287849 -0.970291  2.080976 -0.167973   \n",
       "3   -0.371107 -0.502812  2.092391 -0.287849  0.190598 -0.987986  0.956127   \n",
       "4   -0.409661 -0.502812 -1.134753 -0.287849 -0.826546  0.013216 -1.877617   \n",
       "..        ...       ...       ...       ...       ...       ...       ...   \n",
       "374 -0.397140 -0.502812 -0.368648 -0.287849 -0.322177 -0.677892  0.822392   \n",
       "375 -0.381729  0.364381 -0.599055 -0.287849 -0.792921 -0.650081 -0.977614   \n",
       "376 -0.415951  2.965961 -1.311878 -0.287849 -1.036700  0.433164 -1.425808   \n",
       "377  0.926381 -0.502812  1.005156 -0.287849  1.527175  0.424821  0.919983   \n",
       "378 -0.390207 -0.502812 -0.368648 -0.287849 -0.322177  0.113336  0.587451   \n",
       "\n",
       "          DIS       RAD       TAX   PTRATIO         B     LSTAT  \n",
       "0   -0.503753 -0.740571 -1.280208 -0.205157  0.404512 -1.077756  \n",
       "1   -0.956440 -0.507741 -0.013937 -1.576252 -3.098037  0.351165  \n",
       "2    0.441388 -0.507741 -1.141522 -1.487795  0.326591 -1.226252  \n",
       "3   -0.950895 -0.856986 -1.310358  0.369819  0.005983  2.065870  \n",
       "4    0.687804 -0.624156  0.148869 -0.603217  0.188141 -0.724729  \n",
       "..        ...       ...       ...       ...       ...       ...  \n",
       "374 -0.735808 -0.507741 -0.128504  1.165939  0.422247  0.861093  \n",
       "375  0.315455 -0.740571 -1.099312  0.148674  0.341924  0.068182  \n",
       "376  2.171042 -0.624156 -0.755610 -0.558988  0.368126 -0.913851  \n",
       "377 -0.776711  1.704142  1.571917  0.856337 -2.848141  1.506909  \n",
       "378 -0.497070 -0.507741 -0.128504  1.165939 -3.294956 -0.263832  \n",
       "\n",
       "[379 rows x 13 columns]"
      ]
     },
     "execution_count": 16,
     "metadata": {},
     "output_type": "execute_result"
    }
   ],
   "source": [
    "pd.DataFrame(X_train_scaled_df)"
   ]
  },
  {
   "cell_type": "code",
   "execution_count": 17,
   "id": "dbfb8162",
   "metadata": {},
   "outputs": [],
   "source": [
    "# We need to reset the index for the labels because StandardScaler resets the indexes of the features\n",
    "y_train.reset_index(drop = True, inplace=True)\n",
    "y_test.reset_index(drop = True, inplace=True)"
   ]
  },
  {
   "cell_type": "markdown",
   "id": "da2e167d",
   "metadata": {},
   "source": [
    "<a id='knn'></a>\n",
    "## Fitting K Nearest Neighbors Regression Model to the Dataset"
   ]
  },
  {
   "cell_type": "code",
   "execution_count": 18,
   "id": "adf11776",
   "metadata": {},
   "outputs": [],
   "source": [
    "from KNN import KNNRegressor"
   ]
  },
  {
   "cell_type": "markdown",
   "id": "f77b7a41",
   "metadata": {},
   "source": [
    "### Searching for best parameters"
   ]
  },
  {
   "cell_type": "code",
   "execution_count": 19,
   "id": "4ade701e",
   "metadata": {},
   "outputs": [
    {
     "name": "stdout",
     "output_type": "stream",
     "text": [
      "KNNRegressor(n_neighbors=1, distance_type = 1, weighted = True)\n",
      "KNNRegressor(n_neighbors=1, distance_type = 1, weighted = False)\n",
      "KNNRegressor(n_neighbors=1, distance_type = 2, weighted = True)\n",
      "KNNRegressor(n_neighbors=1, distance_type = 2, weighted = False)\n",
      "KNNRegressor(n_neighbors=2, distance_type = 1, weighted = True)\n",
      "KNNRegressor(n_neighbors=2, distance_type = 1, weighted = False)\n",
      "KNNRegressor(n_neighbors=2, distance_type = 2, weighted = True)\n",
      "KNNRegressor(n_neighbors=2, distance_type = 2, weighted = False)\n",
      "KNNRegressor(n_neighbors=3, distance_type = 1, weighted = True)\n",
      "KNNRegressor(n_neighbors=3, distance_type = 1, weighted = False)\n",
      "KNNRegressor(n_neighbors=3, distance_type = 2, weighted = True)\n",
      "KNNRegressor(n_neighbors=3, distance_type = 2, weighted = False)\n",
      "KNNRegressor(n_neighbors=4, distance_type = 1, weighted = True)\n",
      "KNNRegressor(n_neighbors=4, distance_type = 1, weighted = False)\n",
      "KNNRegressor(n_neighbors=4, distance_type = 2, weighted = True)\n",
      "KNNRegressor(n_neighbors=4, distance_type = 2, weighted = False)\n",
      "KNNRegressor(n_neighbors=5, distance_type = 1, weighted = True)\n",
      "KNNRegressor(n_neighbors=5, distance_type = 1, weighted = False)\n",
      "KNNRegressor(n_neighbors=5, distance_type = 2, weighted = True)\n",
      "KNNRegressor(n_neighbors=5, distance_type = 2, weighted = False)\n",
      "KNNRegressor(n_neighbors=6, distance_type = 1, weighted = True)\n",
      "KNNRegressor(n_neighbors=6, distance_type = 1, weighted = False)\n",
      "KNNRegressor(n_neighbors=6, distance_type = 2, weighted = True)\n",
      "KNNRegressor(n_neighbors=6, distance_type = 2, weighted = False)\n",
      "KNNRegressor(n_neighbors=7, distance_type = 1, weighted = True)\n",
      "KNNRegressor(n_neighbors=7, distance_type = 1, weighted = False)\n",
      "KNNRegressor(n_neighbors=7, distance_type = 2, weighted = True)\n",
      "KNNRegressor(n_neighbors=7, distance_type = 2, weighted = False)\n",
      "KNNRegressor(n_neighbors=8, distance_type = 1, weighted = True)\n",
      "KNNRegressor(n_neighbors=8, distance_type = 1, weighted = False)\n",
      "KNNRegressor(n_neighbors=8, distance_type = 2, weighted = True)\n",
      "KNNRegressor(n_neighbors=8, distance_type = 2, weighted = False)\n",
      "KNNRegressor(n_neighbors=9, distance_type = 1, weighted = True)\n",
      "KNNRegressor(n_neighbors=9, distance_type = 1, weighted = False)\n",
      "KNNRegressor(n_neighbors=9, distance_type = 2, weighted = True)\n",
      "KNNRegressor(n_neighbors=9, distance_type = 2, weighted = False)\n",
      "KNNRegressor(n_neighbors=10, distance_type = 1, weighted = True)\n",
      "KNNRegressor(n_neighbors=10, distance_type = 1, weighted = False)\n",
      "KNNRegressor(n_neighbors=10, distance_type = 2, weighted = True)\n",
      "KNNRegressor(n_neighbors=10, distance_type = 2, weighted = False)\n",
      "\n",
      "That took 0.0 minute(s).\n",
      "\n",
      "Best value for n_neighbors: 2\n",
      "Best distance function: 2\n",
      "Weighted: False\n",
      "Best Score:0.7742672278926411\n"
     ]
    }
   ],
   "source": [
    "best_score = 0.0\n",
    "best_n_neighbors = 1\n",
    "best_distance_func = 2\n",
    "best_weighted = False\n",
    "\n",
    "n_neighbors = range(1, 11)\n",
    "\n",
    "start = time.time()\n",
    "for n in n_neighbors:\n",
    "    for d in [1,2]:\n",
    "        for w in [True, False]:\n",
    "            # Build the model\n",
    "            knn = KNNRegressor(n_neighbors = n, distance_type = d, weighted = w)\n",
    "            knn.fit(X_train_scaled_df, y_train)\n",
    "            current_score = knn.score(X_test_scaled_df, y_test)\n",
    "            if current_score > best_score:\n",
    "                best_score = current_score\n",
    "                best_n_neighbors = n\n",
    "                best_distance_func = d\n",
    "                best_weighted = w\n",
    "\n",
    "                \n",
    "print(f'\\nThat took {np.round((time.time() - start)/60)} minute(s).')                \n",
    "print(f'\\nBest value for n_neighbors: {best_n_neighbors}')\n",
    "print(f'Best distance function: {best_distance_func}')\n",
    "print(f'Weighted: {best_weighted}')\n",
    "print(f'Best Score:{best_score}')"
   ]
  },
  {
   "cell_type": "code",
   "execution_count": 20,
   "id": "d1b00fb0",
   "metadata": {},
   "outputs": [
    {
     "data": {
      "text/plain": [
       "0.7742672278926411"
      ]
     },
     "execution_count": 20,
     "metadata": {},
     "output_type": "execute_result"
    }
   ],
   "source": [
    "knn_score = best_score\n",
    "knn_score"
   ]
  },
  {
   "cell_type": "markdown",
   "id": "df809136",
   "metadata": {},
   "source": [
    "### How the scores change with respect to the number of neighbors"
   ]
  },
  {
   "cell_type": "code",
   "execution_count": 21,
   "id": "f20d6cd3",
   "metadata": {},
   "outputs": [
    {
     "name": "stdout",
     "output_type": "stream",
     "text": [
      "KNNRegressor(n_neighbors=1, distance_type = 2, weighted = False)\n",
      "KNNRegressor(n_neighbors=2, distance_type = 2, weighted = False)\n",
      "KNNRegressor(n_neighbors=3, distance_type = 2, weighted = False)\n",
      "KNNRegressor(n_neighbors=4, distance_type = 2, weighted = False)\n",
      "KNNRegressor(n_neighbors=5, distance_type = 2, weighted = False)\n",
      "KNNRegressor(n_neighbors=6, distance_type = 2, weighted = False)\n",
      "KNNRegressor(n_neighbors=7, distance_type = 2, weighted = False)\n",
      "KNNRegressor(n_neighbors=8, distance_type = 2, weighted = False)\n",
      "KNNRegressor(n_neighbors=9, distance_type = 2, weighted = False)\n",
      "KNNRegressor(n_neighbors=10, distance_type = 2, weighted = False)\n",
      "That took 0.0 minute(s).\n"
     ]
    }
   ],
   "source": [
    "train_score = []\n",
    "test_score = []\n",
    "\n",
    "neighbors = range(1, 11)\n",
    "\n",
    "start = time.time()\n",
    "for n in neighbors:\n",
    "    # Build the model\n",
    "    knn = KNNRegressor(n_neighbors=n, distance_type = best_distance_func, weighted = best_weighted)\n",
    "    knn.fit(X_train_scaled_df, y_train)\n",
    "    # Record Training Score\n",
    "    train_score.append(knn.score(X_train_scaled_df, y_train))\n",
    "    # Record Test Score\n",
    "    test_score.append(knn.score(X_test_scaled_df, y_test))\n",
    "    \n",
    "print(f'That took {np.round((time.time() - start)/60)} minute(s).')"
   ]
  },
  {
   "cell_type": "code",
   "execution_count": 22,
   "id": "0bbdb03e",
   "metadata": {},
   "outputs": [
    {
     "data": {
      "image/png": "[encoded data removed]",
      "text/plain": [
       "<Figure size 720x360 with 1 Axes>"
      ]
     },
     "metadata": {
      "needs_background": "light"
     },
     "output_type": "display_data"
    }
   ],
   "source": [
    "fig, ax = plt.subplots(figsize=(10,5))\n",
    "ax.plot(n_neighbors, train_score, label = 'Training Score')\n",
    "ax.plot(n_neighbors, test_score, label = 'Test Score')\n",
    "ax.set(xlabel = 'Number of Neighbors',\n",
    "       ylabel = '$R^2$ Score',\n",
    "       title = 'Unweighted KNN (Euclidean Distance)')\n",
    "ax.legend();"
   ]
  },
  {
   "cell_type": "markdown",
   "id": "dad3745b",
   "metadata": {},
   "source": [
    "<a id='rfr'></a>\n",
    "## Using Random Forest Regression "
   ]
  },
  {
   "cell_type": "code",
   "execution_count": 23,
   "id": "78cf20e7",
   "metadata": {},
   "outputs": [],
   "source": [
    "# Maximum number of features to consider at each node\n",
    "p = int(np.ceil(X_train.shape[1]/3))"
   ]
  },
  {
   "cell_type": "code",
   "execution_count": 24,
   "id": "5bbe11cf",
   "metadata": {},
   "outputs": [],
   "source": [
    "from RFR import RandomForestRegressor"
   ]
  },
  {
   "cell_type": "markdown",
   "id": "f89c8968",
   "metadata": {},
   "source": [
    "### Searching for the model with the best parameters and best score"
   ]
  },
  {
   "cell_type": "code",
   "execution_count": 25,
   "id": "39a7b8c4",
   "metadata": {},
   "outputs": [
    {
     "name": "stdout",
     "output_type": "stream",
     "text": [
      "That took 71.0 minute(s).\n",
      "\n",
      "Best value for n_estimators: 100\n",
      "Best value for min_samples_split: 5\n",
      "Best value for max_depth: 25\n",
      "Best Score: 0.8517834812317369\n"
     ]
    }
   ],
   "source": [
    "best_score = 0.0\n",
    "best_n_estimators = 50\n",
    "best_min_samples_split = 5\n",
    "best_max_depth = 5\n",
    "\n",
    "num_trees = [50, 100, 150, 200, 250]\n",
    "samples = [5, 50, 100, 150, 200]\n",
    "depths = [5, 10, 15, 20, 25, 30]\n",
    "\n",
    "start = time.time()\n",
    "for n in num_trees:\n",
    "    for s in samples:\n",
    "        for d in depths:\n",
    "            # Build the model\n",
    "            rf = RandomForestRegressor(n_estimators=n, min_samples_split = s, max_depth = d, max_features = p)\n",
    "            rf.fit(X_train_scaled_df, y_train)\n",
    "            current_score = rf.score(X_test_scaled_df, y_test)\n",
    "            if current_score > best_score:\n",
    "                best_score = current_score\n",
    "                best_n_estimators = n\n",
    "                best_min_samples_split = s\n",
    "                best_max_depth = d\n",
    "                \n",
    "print(f'That took {np.round((time.time() - start)/60)} minute(s).')\n",
    "        \n",
    "print(f'\\nBest value for n_estimators: {best_n_estimators}')\n",
    "print(f'Best value for min_samples_split: {best_min_samples_split}')\n",
    "print(f'Best value for max_depth: {best_max_depth}')\n",
    "print(f'Best Score: {best_score}')"
   ]
  },
  {
   "cell_type": "code",
   "execution_count": 26,
   "id": "743b6533",
   "metadata": {},
   "outputs": [
    {
     "data": {
      "text/plain": [
       "0.8517834812317369"
      ]
     },
     "execution_count": 26,
     "metadata": {},
     "output_type": "execute_result"
    }
   ],
   "source": [
    "rf_score = best_score\n",
    "rf_score"
   ]
  },
  {
   "cell_type": "markdown",
   "id": "585d0c70",
   "metadata": {},
   "source": [
    "### $R^2$ Scores with varying n_estimators"
   ]
  },
  {
   "cell_type": "code",
   "execution_count": 27,
   "id": "e3471925",
   "metadata": {},
   "outputs": [
    {
     "name": "stdout",
     "output_type": "stream",
     "text": [
      "That took 5.0 minute(s).\n"
     ]
    }
   ],
   "source": [
    "train_score = []\n",
    "test_score = []\n",
    "\n",
    "num_trees = [50, 100, 150, 200, 250]\n",
    "\n",
    "\n",
    "start = time.time()\n",
    "for n in num_trees:\n",
    "    # Build the model\n",
    "    rf = RandomForestRegressor(n_estimators = n, \n",
    "                               min_samples_split = best_min_samples_split, \n",
    "                               max_depth = best_max_depth,\n",
    "                               max_features = p)\n",
    "    rf.fit(X_train_scaled_df, y_train)\n",
    "    # Record Training Score\n",
    "    train_score.append(rf.score(X_train_scaled_df, y_train))\n",
    "    # Record Test Score\n",
    "    test_score.append(rf.score(X_test_scaled_df, y_test))\n",
    "    \n",
    "print(f'That took {np.round((time.time() - start)/60)} minute(s).')"
   ]
  },
  {
   "cell_type": "code",
   "execution_count": 28,
   "id": "669e66f4",
   "metadata": {},
   "outputs": [
    {
     "data": {
      "image/png": "[encoded data removed]",
      "text/plain": [
       "<Figure size 720x360 with 1 Axes>"
      ]
     },
     "metadata": {
      "needs_background": "light"
     },
     "output_type": "display_data"
    }
   ],
   "source": [
    "fig, ax = plt.subplots(figsize=(10,5))\n",
    "ax.plot(num_trees, train_score, label = 'Training Score')\n",
    "ax.plot(num_trees, test_score, label = 'Test Score')\n",
    "ax.set(xlabel = 'Number of Trees',\n",
    "       ylabel = '$R^2$ Score',\n",
    "       title = 'Random Forest Regression')\n",
    "ax.legend();"
   ]
  },
  {
   "cell_type": "markdown",
   "id": "af5ddd8a",
   "metadata": {},
   "source": [
    "### $R^2$ Scores with varying min_samples_split"
   ]
  },
  {
   "cell_type": "code",
   "execution_count": 29,
   "id": "ebc0d002",
   "metadata": {},
   "outputs": [
    {
     "name": "stdout",
     "output_type": "stream",
     "text": [
      "That took 1.0 minute(s).\n"
     ]
    }
   ],
   "source": [
    "train_score = []\n",
    "test_score = []\n",
    "\n",
    "samples = [5, 50, 100, 150, 200]\n",
    "\n",
    "start = time.time()\n",
    "for s in samples:\n",
    "    # Build the model\n",
    "    rf = RandomForestRegressor(n_estimators = best_n_estimators, \n",
    "                               min_samples_split = s, \n",
    "                               max_depth = best_max_depth, \n",
    "                               max_features=p)\n",
    "    rf.fit(X_train_scaled_df, y_train)\n",
    "    # Record Training Score\n",
    "    train_score.append(rf.score(X_train_scaled_df, y_train))\n",
    "    # Record Test Score\n",
    "    test_score.append(rf.score(X_test_scaled_df, y_test))\n",
    "    \n",
    "print(f'That took {np.round((time.time() - start)/60)} minute(s).')"
   ]
  },
  {
   "cell_type": "code",
   "execution_count": 30,
   "id": "41c03cad",
   "metadata": {},
   "outputs": [
    {
     "data": {
      "image/png": "[encoded data removed]",
      "text/plain": [
       "<Figure size 720x360 with 1 Axes>"
      ]
     },
     "metadata": {
      "needs_background": "light"
     },
     "output_type": "display_data"
    }
   ],
   "source": [
    "fig, ax = plt.subplots(figsize=(10,5))\n",
    "ax.plot(samples, train_score, label = 'Training Score')\n",
    "ax.plot(samples, test_score, label = 'Test Score')\n",
    "ax.set(xlabel = 'Min Samples Split',\n",
    "       ylabel = '$R^2$ Score',\n",
    "       xticks =samples,\n",
    "       title = 'Random Forest Regression')\n",
    "ax.legend();"
   ]
  },
  {
   "cell_type": "markdown",
   "id": "640ad55e",
   "metadata": {},
   "source": [
    "### $R^2$ Scores with varying max_depth"
   ]
  },
  {
   "cell_type": "code",
   "execution_count": 31,
   "id": "9195c234",
   "metadata": {},
   "outputs": [
    {
     "name": "stdout",
     "output_type": "stream",
     "text": [
      "That took 3.0 minute(s).\n"
     ]
    }
   ],
   "source": [
    "train_score = []\n",
    "test_score = []\n",
    "\n",
    "depths = [5, 10, 15, 20, 25, 30]\n",
    "\n",
    "start = time.time()\n",
    "for d in depths:\n",
    "    # Build the model\n",
    "    rf = RandomForestRegressor(n_estimators = best_n_estimators, \n",
    "                               min_samples_split = best_min_samples_split, \n",
    "                               max_depth = d, \n",
    "                               max_features = p)\n",
    "    rf.fit(X_train_scaled_df, y_train)\n",
    "    # Record Training Score\n",
    "    train_score.append(rf.score(X_train_scaled_df, y_train))\n",
    "    # Record Test Score\n",
    "    test_score.append(rf.score(X_test_scaled_df, y_test))\n",
    "\n",
    "print(f'That took {np.round((time.time() - start)/60)} minute(s).')"
   ]
  },
  {
   "cell_type": "code",
   "execution_count": 32,
   "id": "b3fbeb2a",
   "metadata": {},
   "outputs": [
    {
     "data": {
      "image/png": "[encoded data removed]",
      "text/plain": [
       "<Figure size 720x360 with 1 Axes>"
      ]
     },
     "metadata": {
      "needs_background": "light"
     },
     "output_type": "display_data"
    }
   ],
   "source": [
    "fig, ax = plt.subplots(figsize=(10,5))\n",
    "ax.plot(depths, train_score, label = 'Training Score')\n",
    "ax.plot(depths, test_score, label = 'Test Score')\n",
    "ax.set(xlabel = 'Depth of Tree',\n",
    "       ylabel = '$R^2$ Score',\n",
    "       xticks = depths,\n",
    "       title = 'Random Forest Regression')\n",
    "ax.legend();"
   ]
  },
  {
   "cell_type": "markdown",
   "id": "3bc62afc",
   "metadata": {},
   "source": [
    "<a id = 'ridge'></a>\n",
    "## Using Ridge Regression"
   ]
  },
  {
   "cell_type": "code",
   "execution_count": 19,
   "id": "ea6437c1",
   "metadata": {},
   "outputs": [],
   "source": [
    "from RR import RidgeRegression"
   ]
  },
  {
   "cell_type": "code",
   "execution_count": 20,
   "id": "7aff0b2f",
   "metadata": {},
   "outputs": [
    {
     "name": "stdout",
     "output_type": "stream",
     "text": [
      "\n",
      "Best value of alpha: 0.1\n",
      "Best Score: 0.6844008362928345\n"
     ]
    }
   ],
   "source": [
    "best_score = 0.0\n",
    "best_alpha = 1\n",
    "\n",
    "alphas = [0.1, 1, 10, 50, 100, 1000]\n",
    "\n",
    "for a in alphas:\n",
    "    rr = RidgeRegression(alpha = a)\n",
    "    rr.fit(X_train_scaled_df, y_train)\n",
    "    current_score = rr.score(X_test_scaled_df, y_test)\n",
    "    if current_score > best_score:\n",
    "        best_score = current_score\n",
    "        best_alpha = a\n",
    "        \n",
    "print(f'\\nBest value of alpha: {best_alpha}')\n",
    "print(f'Best Score: {best_score}')"
   ]
  },
  {
   "cell_type": "code",
   "execution_count": 21,
   "id": "ed80f8b1",
   "metadata": {},
   "outputs": [
    {
     "data": {
      "text/plain": [
       "0.6844008362928345"
      ]
     },
     "execution_count": 21,
     "metadata": {},
     "output_type": "execute_result"
    }
   ],
   "source": [
    "rr_score = best_score\n",
    "rr_score"
   ]
  },
  {
   "cell_type": "markdown",
   "id": "8ed26e09",
   "metadata": {},
   "source": [
    "### Checking $R^2$ Scores for Different Alphas"
   ]
  },
  {
   "cell_type": "code",
   "execution_count": 22,
   "id": "4a6f26c4",
   "metadata": {},
   "outputs": [],
   "source": [
    "train_score = []\n",
    "test_score = []\n",
    "\n",
    "alphas = [0.1, 1, 10, 50, 100, 1000]\n",
    "\n",
    "for alpha in alphas:\n",
    "    # Build the model\n",
    "    reg = RidgeRegression(alpha = alpha)\n",
    "    reg.fit(X_train_scaled_df, y_train)\n",
    "    # Record Training Score\n",
    "    train_score.append(reg.score(X_train_scaled_df, y_train))\n",
    "    # Record Test Score\n",
    "    test_score.append(reg.score(X_test_scaled_df, y_test))"
   ]
  },
  {
   "cell_type": "code",
   "execution_count": 23,
   "id": "9d724aa5",
   "metadata": {},
   "outputs": [
    {
     "data": {
      "image/png": "[encoded data removed]",
      "text/plain": [
       "<Figure size 720x360 with 1 Axes>"
      ]
     },
     "metadata": {
      "needs_background": "light"
     },
     "output_type": "display_data"
    }
   ],
   "source": [
    "fig, ax = plt.subplots(figsize=(10,5))\n",
    "ax.plot(alphas, train_score, label = 'Training Score')\n",
    "ax.plot(alphas, test_score, label = 'Test Score')\n",
    "ax.set(xlabel = 'Alpha',\n",
    "       ylabel = '$R^2$ Score',\n",
    "       title = 'Ridge Regression')\n",
    "ax.legend();"
   ]
  },
  {
   "cell_type": "markdown",
   "id": "cd9394fc",
   "metadata": {},
   "source": [
    "### Weights for the features"
   ]
  },
  {
   "cell_type": "code",
   "execution_count": 24,
   "id": "0fac4063",
   "metadata": {},
   "outputs": [
    {
     "data": {
      "text/plain": [
       "array([-0.43219598,  0.26584567, -0.43916044,  0.4327906 , -0.36881538,\n",
       "        1.34233784, -0.25966435, -0.07972836, -0.25530388, -0.42224582,\n",
       "       -0.76247721,  0.43667497, -1.2435523 ])"
      ]
     },
     "execution_count": 24,
     "metadata": {},
     "output_type": "execute_result"
    }
   ],
   "source": [
    "rr.coef_"
   ]
  },
  {
   "cell_type": "markdown",
   "id": "ff8e92b4",
   "metadata": {},
   "source": [
    "### Intercept"
   ]
  },
  {
   "cell_type": "code",
   "execution_count": 25,
   "id": "36f0246f",
   "metadata": {},
   "outputs": [
    {
     "data": {
      "text/plain": [
       "22.907915567282323"
      ]
     },
     "execution_count": 25,
     "metadata": {},
     "output_type": "execute_result"
    }
   ],
   "source": [
    "rr.intercept_"
   ]
  },
  {
   "cell_type": "markdown",
   "id": "32bb7687",
   "metadata": {},
   "source": [
    "### Displaying the weights in a more readable format"
   ]
  },
  {
   "cell_type": "code",
   "execution_count": 26,
   "id": "71d78d83",
   "metadata": {},
   "outputs": [
    {
     "data": {
      "text/html": [
       "<div>\n",
       "<style scoped>\n",
       "    .dataframe tbody tr th:only-of-type {\n",
       "        vertical-align: middle;\n",
       "    }\n",
       "\n",
       "    .dataframe tbody tr th {\n",
       "        vertical-align: top;\n",
       "    }\n",
       "\n",
       "    .dataframe thead th {\n",
       "        text-align: right;\n",
       "    }\n",
       "</style>\n",
       "<table border=\"1\" class=\"dataframe\">\n",
       "  <thead>\n",
       "    <tr style=\"text-align: right;\">\n",
       "      <th></th>\n",
       "      <th>Weights</th>\n",
       "    </tr>\n",
       "  </thead>\n",
       "  <tbody>\n",
       "    <tr>\n",
       "      <th>CRIM</th>\n",
       "      <td>-0.432196</td>\n",
       "    </tr>\n",
       "    <tr>\n",
       "      <th>ZN</th>\n",
       "      <td>0.265846</td>\n",
       "    </tr>\n",
       "    <tr>\n",
       "      <th>INDUS</th>\n",
       "      <td>-0.439160</td>\n",
       "    </tr>\n",
       "    <tr>\n",
       "      <th>CHAS</th>\n",
       "      <td>0.432791</td>\n",
       "    </tr>\n",
       "    <tr>\n",
       "      <th>NOX</th>\n",
       "      <td>-0.368815</td>\n",
       "    </tr>\n",
       "    <tr>\n",
       "      <th>RM</th>\n",
       "      <td>1.342338</td>\n",
       "    </tr>\n",
       "    <tr>\n",
       "      <th>AGE</th>\n",
       "      <td>-0.259664</td>\n",
       "    </tr>\n",
       "    <tr>\n",
       "      <th>DIS</th>\n",
       "      <td>-0.079728</td>\n",
       "    </tr>\n",
       "    <tr>\n",
       "      <th>RAD</th>\n",
       "      <td>-0.255304</td>\n",
       "    </tr>\n",
       "    <tr>\n",
       "      <th>TAX</th>\n",
       "      <td>-0.422246</td>\n",
       "    </tr>\n",
       "    <tr>\n",
       "      <th>PTRATIO</th>\n",
       "      <td>-0.762477</td>\n",
       "    </tr>\n",
       "    <tr>\n",
       "      <th>B</th>\n",
       "      <td>0.436675</td>\n",
       "    </tr>\n",
       "    <tr>\n",
       "      <th>LSTAT</th>\n",
       "      <td>-1.243552</td>\n",
       "    </tr>\n",
       "  </tbody>\n",
       "</table>\n",
       "</div>"
      ],
      "text/plain": [
       "          Weights\n",
       "CRIM    -0.432196\n",
       "ZN       0.265846\n",
       "INDUS   -0.439160\n",
       "CHAS     0.432791\n",
       "NOX     -0.368815\n",
       "RM       1.342338\n",
       "AGE     -0.259664\n",
       "DIS     -0.079728\n",
       "RAD     -0.255304\n",
       "TAX     -0.422246\n",
       "PTRATIO -0.762477\n",
       "B        0.436675\n",
       "LSTAT   -1.243552"
      ]
     },
     "execution_count": 26,
     "metadata": {},
     "output_type": "execute_result"
    }
   ],
   "source": [
    "df = pd.DataFrame(rr.coef_, feature_names[0:13], columns=['Weights'])\n",
    "df"
   ]
  },
  {
   "cell_type": "markdown",
   "id": "973a48cf",
   "metadata": {},
   "source": [
    "<a id='kridge'></a>\n",
    "## Using Kernelized Ridge Regression"
   ]
  },
  {
   "cell_type": "code",
   "execution_count": 27,
   "id": "96db45ba",
   "metadata": {},
   "outputs": [],
   "source": [
    "from KernelizedRR import KernelizedRidgeRegression"
   ]
  },
  {
   "cell_type": "markdown",
   "id": "8c49ff9d",
   "metadata": {},
   "source": [
    "### Linear Kernel"
   ]
  },
  {
   "cell_type": "code",
   "execution_count": 28,
   "id": "c52cec71",
   "metadata": {},
   "outputs": [],
   "source": [
    "krr_linear = KernelizedRidgeRegression(kernel='linear', alpha = best_alpha) "
   ]
  },
  {
   "cell_type": "code",
   "execution_count": 29,
   "id": "9d5f68a6",
   "metadata": {},
   "outputs": [],
   "source": [
    "krr_linear.fit(X_train_scaled_df, y_train)"
   ]
  },
  {
   "cell_type": "code",
   "execution_count": 30,
   "id": "9711484d",
   "metadata": {},
   "outputs": [
    {
     "data": {
      "text/plain": [
       "-7.0108321418913535"
      ]
     },
     "execution_count": 30,
     "metadata": {},
     "output_type": "execute_result"
    }
   ],
   "source": [
    "krr_linear_score = krr_linear.score(X_test_scaled_df, y_test)\n",
    "krr_linear_score"
   ]
  },
  {
   "cell_type": "markdown",
   "id": "1c850874",
   "metadata": {},
   "source": [
    "### Polynomial Kernel"
   ]
  },
  {
   "cell_type": "code",
   "execution_count": 31,
   "id": "b5717b5e",
   "metadata": {},
   "outputs": [
    {
     "name": "stdout",
     "output_type": "stream",
     "text": [
      "Best Degree: 3\n",
      "Best Coef0: 2\n",
      "Best Score: 0.8286687606504263\n"
     ]
    }
   ],
   "source": [
    "best_degree, best_coef, best_score = 3, 1, 0.0\n",
    "for d in [2, 3, 4, 5, 6]:\n",
    "    for c in [1, 2, 5, 10, 15]:\n",
    "        krr = KernelizedRidgeRegression(kernel = 'polynomial', degree=d, coef0=c)\n",
    "        krr.fit(X_train_scaled_df, y_train)\n",
    "        current_score = krr.score(X_test_scaled_df, y_test)\n",
    "        if current_score > best_score:\n",
    "            best_degree = d\n",
    "            best_coef = c\n",
    "            best_score = current_score\n",
    "\n",
    "print(f'Best Degree: {best_degree}')\n",
    "print(f'Best Coef0: {best_coef}')\n",
    "print(f'Best Score: {best_score}')"
   ]
  },
  {
   "cell_type": "code",
   "execution_count": 32,
   "id": "870cdc93",
   "metadata": {},
   "outputs": [
    {
     "data": {
      "text/plain": [
       "0.8286687606504263"
      ]
     },
     "execution_count": 32,
     "metadata": {},
     "output_type": "execute_result"
    }
   ],
   "source": [
    "krr_poly_score = best_score\n",
    "krr_poly_score"
   ]
  },
  {
   "cell_type": "markdown",
   "id": "b4741150",
   "metadata": {},
   "source": [
    "### Radial Basis Kernel"
   ]
  },
  {
   "cell_type": "code",
   "execution_count": 33,
   "id": "87ad7ccc",
   "metadata": {},
   "outputs": [],
   "source": [
    "krr_rbf = KernelizedRidgeRegression(kernel='rbf')"
   ]
  },
  {
   "cell_type": "code",
   "execution_count": 34,
   "id": "05c8b922",
   "metadata": {},
   "outputs": [],
   "source": [
    "krr_rbf.fit(X_train_scaled_df, y_train)"
   ]
  },
  {
   "cell_type": "code",
   "execution_count": 35,
   "id": "c8b56338",
   "metadata": {},
   "outputs": [
    {
     "data": {
      "text/plain": [
       "0.7326765716896875"
      ]
     },
     "execution_count": 35,
     "metadata": {},
     "output_type": "execute_result"
    }
   ],
   "source": [
    "krr_rbf_score = krr_rbf.score(X_test_scaled_df, y_test)\n",
    "krr_rbf_score"
   ]
  },
  {
   "cell_type": "markdown",
   "id": "217c59d9",
   "metadata": {},
   "source": [
    "<a id='compare'></a>\n",
    "## Comparing Our Models"
   ]
  },
  {
   "cell_type": "code",
   "execution_count": 36,
   "id": "f73564c3",
   "metadata": {},
   "outputs": [],
   "source": [
    "scores = [knn_score, rf_score, rr_score, krr_linear_score, krr_poly_score, krr_rbf_score]\n",
    "score_labels = ['KNN', 'Random Forest', 'Ridge', 'Linear Kernel', 'Polynomial Kernel', 'Radial Kernel']"
   ]
  },
  {
   "cell_type": "code",
   "execution_count": 37,
   "id": "1f64cdb3",
   "metadata": {},
   "outputs": [],
   "source": [
    "# Storing the sort indices \n",
    "sort_indices = np.argsort(scores)\n",
    "\n",
    "# Sorting the scores array\n",
    "scores = np.sort(scores)"
   ]
  },
  {
   "cell_type": "code",
   "execution_count": 38,
   "id": "74be6fda",
   "metadata": {},
   "outputs": [],
   "source": [
    "# Sorting the array of labels according to the sort indices for the scores array\n",
    "score_labels = np.array(score_labels)[sort_indices]"
   ]
  },
  {
   "cell_type": "code",
   "execution_count": 39,
   "id": "43b690c4",
   "metadata": {},
   "outputs": [],
   "source": [
    "# Array of hexa codes for the bar colors\n",
    "bar_colors = ['#eff3ff','#c6dbef','#9ecae1', '#6baed6', '#3182bd', '#08519c']"
   ]
  },
  {
   "cell_type": "code",
   "execution_count": 40,
   "id": "330e918b",
   "metadata": {},
   "outputs": [
    {
     "data": {
      "image/png": "[encoded data removed]",
      "text/plain": [
       "<Figure size 720x540 with 1 Axes>"
      ]
     },
     "metadata": {
      "needs_background": "light"
     },
     "output_type": "display_data"
    }
   ],
   "source": [
    "# Plotting R2 Scores for our models\n",
    "fig, ax = plt.subplots(figsize=(10,7.5))\n",
    "bars = ax.barh(score_labels, scores, color = bar_colors);\n",
    "ax.bar_label(bars, fmt='%.2f', padding = 5);\n",
    "ax.set(xlim = (0,1),\n",
    "       xlabel ='$R^2$ Score',\n",
    "       title = 'Boston Dataset: $R^2$ Scores for Our Models');"
   ]
  },
  {
   "cell_type": "markdown",
   "id": "1758db89",
   "metadata": {},
   "source": [
    "<a id = 'online'></a>\n",
    "## Online Prediction"
   ]
  },
  {
   "cell_type": "code",
   "execution_count": 55,
   "id": "717b1c51",
   "metadata": {},
   "outputs": [],
   "source": [
    "from OnlineLR import OnlineLinearRegression"
   ]
  },
  {
   "cell_type": "code",
   "execution_count": 56,
   "id": "06e716e7",
   "metadata": {},
   "outputs": [],
   "source": [
    "olr = OnlineLinearRegression(n_features = X_boston.shape[1])\n",
    "y_preds = []\n",
    "T = X_boston.shape[0]"
   ]
  },
  {
   "cell_type": "code",
   "execution_count": 57,
   "id": "8c275f87",
   "metadata": {},
   "outputs": [],
   "source": [
    "for t in range(T):\n",
    "    # Observe the sample at time t and make a prediction\n",
    "    prediction = olr.predict(X_boston.iloc[t])\n",
    "    # Store the prediction that we have made\n",
    "    y_preds.append(prediction)\n",
    "    # Calculate Loss and Update Weights\n",
    "    olr.update_weights(y_boston[t], prediction)"
   ]
  },
  {
   "cell_type": "code",
   "execution_count": 58,
   "id": "fc942d0d",
   "metadata": {},
   "outputs": [
    {
     "data": {
      "image/png": "[encoded data removed]",
      "text/plain": [
       "<Figure size 1080x360 with 1 Axes>"
      ]
     },
     "metadata": {
      "needs_background": "light"
     },
     "output_type": "display_data"
    }
   ],
   "source": [
    "fig, ax = plt.subplots(figsize=(15,5))\n",
    "ax.plot(olr.losses)\n",
    "ax.set(xlabel = 'Time',\n",
    "       ylabel = 'Loss',\n",
    "       title = 'Boston Dataset: Online Prediction');"
   ]
  },
  {
   "cell_type": "markdown",
   "id": "e0ca1119",
   "metadata": {},
   "source": [
    "### Cumulative Loss"
   ]
  },
  {
   "cell_type": "code",
   "execution_count": 59,
   "id": "ccdeacd0",
   "metadata": {},
   "outputs": [
    {
     "data": {
      "text/plain": [
       "178449.73573892968"
      ]
     },
     "execution_count": 59,
     "metadata": {},
     "output_type": "execute_result"
    }
   ],
   "source": [
    "olr.cumulative_loss_"
   ]
  }
 ],
 "metadata": {
  "kernelspec": {
   "display_name": "Python 3 (ipykernel)",
   "language": "python",
   "name": "python3"
  },
  "language_info": {
   "codemirror_mode": {
    "name": "ipython",
    "version": 3
   },
   "file_extension": ".py",
   "mimetype": "text/x-python",
   "name": "python",
   "nbconvert_exporter": "python",
   "pygments_lexer": "ipython3",
   "version": "3.9.7"
  }
 },
 "nbformat": 4,
 "nbformat_minor": 5
}
